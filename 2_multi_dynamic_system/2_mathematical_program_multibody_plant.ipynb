{
 "cells": [
  {
   "cell_type": "markdown",
   "metadata": {
    "cell_id": "6cfc16956de34c07b3344d44244a3a02",
    "deepnote_cell_type": "markdown"
   },
   "source": [
    "# 多体系统数学规划教程\n",
    "关于如何运行这些教程笔记本，请参见 [index](./index.ipynb)。\n"
   ]
  },
  {
   "cell_type": "markdown",
   "metadata": {
    "cell_id": "b17b7ea0e74c4cc986b07504eb4ab74b",
    "deepnote_cell_type": "markdown"
   },
   "source": [
    "本教程展示了以下内容：\n",
    "* 创建包含 IIWA 机械臂的 `MultibodyPlant`\n",
    "* 通过编写自定义评估器，解决一个简单的逆运动学问题，该评估器可同时处理 `float` 和 `AutoDiffXd` 输入\n",
    "* 在约束中使用自定义评估器\n",
    "* 在代价函数中使用自定义评估器。\n",
    "\n",
    "***待补充***：\n",
    "* 使用 `pydrake.multibody.inverse_kinematics`。\n",
    "* 使用 Meshcat 可视化。\n",
    "\n",
    "### 重要说明\n",
    "\n",
    "在深入编写用于 `MultibodyPlant` 的自定义评估器之前，请先查阅\n",
    "[`pydrake.multibody.inverse_kinematics` 的 API 文档](https://drake.mit.edu/pydrake/pydrake.multibody.inverse_kinematics.html)。\n",
    "你可能会发现你需要的功能已经被实现。"
   ]
  },
  {
   "cell_type": "markdown",
   "metadata": {
    "cell_id": "aa8019c2086749198b5fa77d18933ec5",
    "deepnote_cell_type": "markdown"
   },
   "source": [
    "## 逆运动学问题\n",
    "\n",
    "在本教程中，我们将解决一个简单的逆运动学问题：\n",
    "使 Link 7 的原点与目标位置之间的距离达到指定值。  \n",
    "\n",
    "我们将使用 `MathematicalProgram` 以两种不同方式求解该问题：首先\n",
    "将评估器作为约束（设置最小和最大距离），\n",
    "其次将评估器作为代价函数（尽可能接近目标）。\n",
    "  \n",
    "关于 `MathematicalProgram` 的更多信息，请参见\n",
    "[`MathematicalProgram` 教程](./mathematical_program.ipynb)。"
   ]
  },
  {
   "cell_type": "markdown",
   "metadata": {
    "cell_id": "7fd93c12688d4b9285dc190b79b4f289",
    "deepnote_cell_type": "markdown"
   },
   "source": [
    "## 环境准备\n",
    "\n",
    "首先，我们将导入必要的模块，并加载包含 IIWA 机械臂的 `MultibodyPlant`。"
   ]
  },
  {
   "cell_type": "code",
   "execution_count": 1,
   "metadata": {
    "cell_id": "6f9118d996cc41c482097ac005716d84",
    "deepnote_cell_type": "code",
    "execution_context_id": "4a0ec3a0-8947-4e8b-943a-5a009cfce215",
    "execution_millis": 455,
    "execution_start": 1752789303767,
    "source_hash": "dee030d6"
   },
   "outputs": [],
   "source": [
    "import numpy as np\n",
    "\n",
    "from pydrake.math import RigidTransform\n",
    "from pydrake.multibody.parsing import Parser\n",
    "from pydrake.systems.analysis import Simulator\n",
    "from pydrake.all import MultibodyPlant\n",
    "\n",
    "from pydrake.solvers import MathematicalProgram, Solve"
   ]
  },
  {
   "cell_type": "code",
   "execution_count": 2,
   "metadata": {
    "cell_id": "7e48f77f4c2640faaed2ef4b73b7ea6c",
    "deepnote_cell_type": "code",
    "execution_context_id": "4a0ec3a0-8947-4e8b-943a-5a009cfce215",
    "execution_millis": 1,
    "execution_start": 1752789304397,
    "source_hash": "6dba8976"
   },
   "outputs": [],
   "source": [
    "plant_f = MultibodyPlant(0.0)\n",
    "iiwa_url = (\n",
    "   \"package://drake_models/iiwa_description/sdf/iiwa14_no_collision.sdf\"\n",
    " )\n",
    "(iiwa,) = Parser(plant_f).AddModels(url=iiwa_url)\n",
    "\n",
    "# 定义一些帧的简写。\n",
    "W = plant_f.world_frame()\n",
    "L0 = plant_f.GetFrameByName(\"iiwa_link_0\", iiwa)\n",
    "L7 = plant_f.GetFrameByName(\"iiwa_link_7\", iiwa)\n",
    "\n",
    "plant_f.WeldFrames(W, L0)\n",
    "plant_f.Finalize()"
   ]
  },
  {
   "cell_type": "markdown",
   "metadata": {
    "cell_id": "f1fd6cfc4c3b4574afda785072ccf7d1",
    "deepnote_cell_type": "markdown"
   },
   "source": [
    "## 编写自定义评估器\n",
    "\n",
    "我们的评估器通过自定义函数 `link_7_distance_to_target` 实现，因为 `inverse_kinematics` 子模块中尚未提供该功能。\n",
    "\n",
    "注意：在 Python 中编写自定义评估器时，必须显式判断输入类型是 `float` 还是 `AutoDiffXd`，具体可见 `link_7_distance_to_target` 的实现。"
   ]
  },
  {
   "cell_type": "code",
   "execution_count": 3,
   "metadata": {
    "cell_id": "53b62677b04949bd970004ed78b8918b",
    "deepnote_cell_type": "code",
    "execution_context_id": "4a0ec3a0-8947-4e8b-943a-5a009cfce215",
    "execution_millis": 0,
    "execution_start": 1752789304457,
    "source_hash": "76932ee7"
   },
   "outputs": [],
   "source": [
    "# 分配 float 类型的 context，供评估器使用。\n",
    "context_f = plant_f.CreateDefaultContext()\n",
    "# 创建 AutoDiffXd 类型的 plant 及其 context。\n",
    "plant_ad = plant_f.ToAutoDiffXd()\n",
    "context_ad = plant_ad.CreateDefaultContext()\n",
    "\n",
    "def resolve_frame(plant, F):\n",
    "    \"\"\"获取标量类型可能不同的 plant 中的帧。\"\"\"\n",
    "    return plant.GetFrameByName(F.name(), F.model_instance())\n",
    "\n",
    "# 定义目标位置。\n",
    "p_WT = [0.1, 0.1, 0.6]\n",
    "\n",
    "def link_7_distance_to_target(q):\n",
    "    \"\"\"计算 L7 原点与目标 T 之间的平方距离。\"\"\"\n",
    "    # 根据数据类型选择 plant 和 context。\n",
    "    if q.dtype == float:\n",
    "        plant = plant_f\n",
    "        context = context_f\n",
    "    else:\n",
    "        # 假定为 AutoDiff 类型。\n",
    "        plant = plant_ad\n",
    "        context = context_ad\n",
    "    # 正向运动学。\n",
    "    plant.SetPositions(context, iiwa, q)\n",
    "    X_WL7 = plant.CalcRelativeTransform(\n",
    "        context, resolve_frame(plant, W), resolve_frame(plant, L7))\n",
    "    p_TL7 = X_WL7.translation() - p_WT\n",
    "    return p_TL7.dot(p_TL7)\n",
    "\n",
    "# 警告：如果你为约束返回标量，或为代价函数返回向量，\n",
    "# 可能会遇到如下晦涩的报错：\n",
    "# \"Unable to cast Python instance to C++ type\"\n",
    "link_7_distance_to_target_vector = lambda q: [link_7_distance_to_target(q)]"
   ]
  },
  {
   "cell_type": "markdown",
   "metadata": {
    "cell_id": "c2e7b36a3962490da77d7e26c2dd4032",
    "deepnote_cell_type": "markdown"
   },
   "source": [
    "## 优化问题的构建"
   ]
  },
  {
   "cell_type": "markdown",
   "metadata": {
    "cell_id": "522c3a18770547d3a8f60866f2285330",
    "deepnote_cell_type": "markdown"
   },
   "source": [
    "### 方式一：在约束中使用自定义评估器\n",
    "\n",
    "我们将用基本代价函数和自定义评估器作为约束来构建并求解该问题。\n",
    "\n",
    "注意，这里使用了评估器的向量版本。"
   ]
  },
  {
   "cell_type": "code",
   "execution_count": 4,
   "metadata": {
    "cell_id": "f113ff70cabb4f6ebcea9821d60b9130",
    "deepnote_cell_type": "code",
    "execution_context_id": "4a0ec3a0-8947-4e8b-943a-5a009cfce215",
    "execution_millis": 1,
    "execution_start": 1752789304507,
    "source_hash": "1920647e"
   },
   "outputs": [
    {
     "data": {
      "text/plain": [
       "<pydrake.solvers.Binding𝓣Constraint𝓤 at 0x7f18742ac7f0>"
      ]
     },
     "execution_count": 4,
     "metadata": {},
     "output_type": "execute_result"
    }
   ],
   "source": [
    "prog = MathematicalProgram()\n",
    "\n",
    "q = prog.NewContinuousVariables(plant_f.num_positions())\n",
    "# 定义标称构型。\n",
    "q0 = np.zeros(plant_f.num_positions())\n",
    "\n",
    "# 添加基本代价函数（将被解析为 QuadraticCost）。\n",
    "prog.AddCost((q - q0).dot(q - q0))\n",
    "\n",
    "# 添加基于自定义评估器的约束。\n",
    "prog.AddConstraint(\n",
    "    link_7_distance_to_target_vector,\n",
    "    lb=[0.1], ub=[0.2], vars=q)"
   ]
  },
  {
   "cell_type": "code",
   "execution_count": 5,
   "metadata": {
    "cell_id": "75b7bc40696d4eaba6c3ee921e2bc4fd",
    "deepnote_cell_type": "code",
    "execution_context_id": "4a0ec3a0-8947-4e8b-943a-5a009cfce215",
    "execution_millis": 1,
    "execution_start": 1752789304567,
    "source_hash": "f6f83cb4"
   },
   "outputs": [
    {
     "name": "stdout",
     "output_type": "stream",
     "text": [
      "是否成功? True\n",
      "SolutionResult.kSolutionFound\n",
      "[ 0.18293302 -0.15345868  0.22224834 -1.24010409  0.01028776  0.28116727\n",
      "  0.        ]\n",
      "初始距离: 0.457\n",
      "解的距离: 0.200\n"
     ]
    }
   ],
   "source": [
    "result = Solve(prog, initial_guess=q0)\n",
    "\n",
    "print(f\"是否成功? {result.is_success()}\")\n",
    "print(result.get_solution_result())\n",
    "q_sol = result.GetSolution(q)\n",
    "print(q_sol)\n",
    "\n",
    "print(f\"初始距离: {link_7_distance_to_target(q0):.3f}\")\n",
    "print(f\"解的距离: {link_7_distance_to_target(q_sol):.3f}\")"
   ]
  },
  {
   "cell_type": "markdown",
   "metadata": {
    "cell_id": "6154b80f3a3d4411a99413eb251cee25",
    "deepnote_cell_type": "markdown"
   },
   "source": [
    "### 方式二：在代价函数中使用自定义评估器\n",
    "\n",
    "我们将重新构建并求解该问题，这次将自定义评估器作为代价函数。\n",
    "\n",
    "注意，这里使用了评估器的标量版本。"
   ]
  },
  {
   "cell_type": "code",
   "execution_count": 6,
   "metadata": {
    "cell_id": "7ec4046c82df4329bc42d900a3c400da",
    "deepnote_cell_type": "code",
    "execution_context_id": "4a0ec3a0-8947-4e8b-943a-5a009cfce215",
    "execution_millis": 1,
    "execution_start": 1752789304617,
    "source_hash": "37df6f7c"
   },
   "outputs": [
    {
     "data": {
      "text/plain": [
       "<pydrake.solvers.Binding𝓣Cost𝓤 at 0x7f17f5cf4c30>"
      ]
     },
     "execution_count": 6,
     "metadata": {},
     "output_type": "execute_result"
    }
   ],
   "source": [
    "prog = MathematicalProgram()\n",
    "\n",
    "q = prog.NewContinuousVariables(plant_f.num_positions())\n",
    "# 定义标称构型。\n",
    "q0 = np.zeros(plant_f.num_positions())\n",
    "\n",
    "# 添加自定义代价函数。\n",
    "prog.AddCost(link_7_distance_to_target, vars=q)"
   ]
  },
  {
   "cell_type": "code",
   "execution_count": 7,
   "metadata": {
    "cell_id": "b2afc78103dc43deabd6cd13b4bb91a4",
    "deepnote_cell_type": "code",
    "execution_context_id": "4a0ec3a0-8947-4e8b-943a-5a009cfce215",
    "execution_millis": 0,
    "execution_start": 1752789304678,
    "source_hash": "f6f83cb4"
   },
   "outputs": [
    {
     "name": "stdout",
     "output_type": "stream",
     "text": [
      "是否成功? True\n",
      "SolutionResult.kSolutionFound\n",
      "[ 2.94972565  0.97163332  0.47321684 -3.63325213  0.08684904  1.11349396\n",
      "  0.        ]\n",
      "初始距离: 0.457\n",
      "解的距离: 0.000\n"
     ]
    }
   ],
   "source": [
    "result = Solve(prog, initial_guess=q0)\n",
    "\n",
    "print(f\"是否成功? {result.is_success()}\")\n",
    "print(result.get_solution_result())\n",
    "q_sol = result.GetSolution(q)\n",
    "print(q_sol)\n",
    "\n",
    "print(f\"初始距离: {link_7_distance_to_target(q0):.3f}\")\n",
    "print(f\"解的距离: {link_7_distance_to_target(q_sol):.3f}\")"
   ]
  }
 ],
 "metadata": {
  "deepnote_notebook_id": "83d6bc1bdee24d0cbe91f094c59a3f60",
  "kernelspec": {
   "display_name": "Python 3",
   "language": "python",
   "name": "python3"
  },
  "language_info": {
   "codemirror_mode": {
    "name": "ipython",
    "version": 3
   },
   "file_extension": ".py",
   "mimetype": "text/x-python",
   "name": "python",
   "nbconvert_exporter": "python",
   "pygments_lexer": "ipython3",
   "version": "3.10.12"
  }
 },
 "nbformat": "4",
 "nbformat_minor": "0"
}
