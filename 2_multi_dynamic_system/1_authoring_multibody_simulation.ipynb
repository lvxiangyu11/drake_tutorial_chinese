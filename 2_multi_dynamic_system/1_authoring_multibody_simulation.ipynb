{
 "cells": [
  {
   "cell_type": "markdown",
   "metadata": {
    "cell_id": "f277c381947145849f05822ede4c397c",
    "deepnote_cell_type": "markdown"
   },
   "source": [
    "# 创建多体仿真\n",
    "有关如何运行本教程笔记本的说明，请参见 [索引](./index.ipynb)。\n"
   ]
  },
  {
   "cell_type": "markdown",
   "metadata": {
    "cell_id": "8046dc41adeb49e9824b6c11e40f3ad1",
    "deepnote_cell_type": "markdown"
   },
   "source": [
    "本教程提供了一些工具，帮助你创建可以被Drake的多体物理引擎（MultibodyPlant）和几何引擎（SceneGraph）解析的场景描述文件。"
   ]
  },
  {
   "cell_type": "markdown",
   "metadata": {
    "cell_id": "78c05f32cf6e4aa0bc98e12bebc8e6ef",
    "deepnote_cell_type": "markdown"
   },
   "source": [
    "## 场景文件格式：URDF、SDFormat 和 MuJoCo XML\n",
    "\n",
    "\n",
    "在 Drake 中用于创建多体场景的最重要的格式是 [统一机器人描述格式（URDF）](http://wiki.ros.org/urdf)、[仿真描述格式（SDFormat）](http://sdformat.org/) 和 [MuJoCo XML (MJCF)](https://mujoco.readthedocs.io/en/stable/XMLreference.html)。这些都是用于描述机器人或对象的 XML 格式，适用于机器人仿真器或可视化。有关每种格式当前支持情况的文档，请参见 [Doxygen](https://drake.mit.edu/doxygen_cxx/group__multibody__parsing.html)。\n",
    "\n",
    "\n",
    "从高层次来看，你可以用 `<link>` 标签表达机器人不同的组件，并通过 `<joint>` 标签将它们连接起来。每个 `<link>` 有三个主要子标签，分别是 `<visual>`、`<collision>` 和 `<inertial>`，分别用于可视化、规划/碰撞检测和动力学。对于 `<visual>` 和 `<collision>`，你可以使用基本体（盒、球、圆柱等）或网格（.gltf 或 .obj）来表示底层几何体。\n",
    "\n",
    "\n",
    "Drake 支持的每种格式的具体标签文档可以在[这里](https://drake.mit.edu/doxygen_cxx/group__multibody__parsing.html)找到。这里有一些关于 [URDF](http://wiki.ros.org/urdf/Tutorials/Building%20a%20Visual%20Robot%20Model%20with%20URDF%20from%20Scratch) 和 [SDFormat](https://classic.gazebosim.org/tutorials?tut=build_model) 的有用资源。\n",
    "\n",
    "\n",
    "### URDF 与 SDFormat\n",
    "\n",
    "\n",
    "虽然 URDF 是 ROS 中的标准格式，但它缺少许多描述更复杂场景的功能。例如，URDF 只能指定单个机器人的运动学和动力学属性，不能指定关节回路和摩擦属性，也不能描述非机器人对象，如灯光、高程图等。\n",
    "\n",
    "\n",
    "SDFormat 诞生于解决 URDF 的不足。SDFormat 能够完整描述从世界级别到机器人级别的一切。这种可扩展性使其更适合复杂仿真。\n",
    "\n",
    "\n",
    "本教程主要聚焦于 SDFormat，但使用 URDF 时只需做一些语法上的调整。\n",
    "\n",
    "\n",
    "### 网格文件格式\n",
    "\n",
    "\n",
    "你可以为任何 `<link>` 使用网格文件。Drake 支持的文件格式及其支持情况见[这里](https://drake.mit.edu/doxygen_cxx/group__geometry__file__formats.html)。一般来说，glTF（`.gltf`）是 Drake 中可视化的首选格式，OBJ（`.obj`）也是很好的选择。如果你有其他格式，可以用开源软件 [Meshlab](https://www.meshlab.net/) 转换为 `.obj`。"
   ]
  },
  {
   "cell_type": "code",
   "execution_count": null,
   "metadata": {
    "cell_id": "e25ab0ed0bfd41f495a8f8fbb816822a",
    "deepnote_cell_type": "code",
    "execution_context_id": "a2729ba5-a2f7-4026-b951-e4b548295acc",
    "execution_millis": 411,
    "execution_start": 1757194894388,
    "source_hash": "9af52506"
   },
   "outputs": [],
   "source": [
    "# 导入本教程所需的基础库和函数。\n",
    "import numpy as np\n",
    "import os\n",
    "\n",
    "from pydrake.common import temp_directory\n",
    "from pydrake.geometry import SceneGraphConfig, StartMeshcat\n",
    "from pydrake.math import RigidTransform, RollPitchYaw\n",
    "from pydrake.multibody.parsing import Parser\n",
    "from pydrake.multibody.plant import AddMultibodyPlantSceneGraph\n",
    "from pydrake.systems.analysis import Simulator\n",
    "from pydrake.systems.framework import DiagramBuilder\n",
    "from pydrake.visualization import AddDefaultVisualization, ModelVisualizer"
   ]
  },
  {
   "cell_type": "code",
   "execution_count": null,
   "metadata": {
    "cell_id": "2f597d84903646de867846ea2c711941",
    "deepnote_cell_type": "code",
    "execution_context_id": "a2729ba5-a2f7-4026-b951-e4b548295acc",
    "execution_millis": 20,
    "execution_start": 1757194894847,
    "source_hash": "450eddfc"
   },
   "outputs": [
    {
     "name": "stderr",
     "output_type": "stream",
     "text": [
      "INFO:drake:Meshcat listening for connections at http://localhost:7001\n"
     ]
    }
   ],
   "source": [
    "# 启动可视化工具。执行后该单元会输出一个 HTTP 链接。\n",
    "# 点击该链接，浏览器中会打开 MeshCat 标签页。\n",
    "meshcat = StartMeshcat()"
   ]
  },
  {
   "cell_type": "markdown",
   "metadata": {
    "cell_id": "f0bdad12a1f0474ca6c393bc4271b5bd",
    "deepnote_cell_type": "markdown"
   },
   "source": [
    "## 查看模型\n",
    "\n",
    "\n",
    "*请确保你已在浏览器中打开 MeshCat 标签页；链接显示在上方。*\n",
    "\n",
    "\n",
    "Drake 提供了 `ModelVisualizer` 类用于交互式可视化模型。当我们开始制作自己的机器人描述文件，或从其他仿真器移植描述文件时，这个类会很有帮助。下面的单元格展示了如何用 Drake 提供的预置模型进行可视化。\n",
    "\n",
    "\n",
    "每运行完下面的两个示例单元格后，切换到 MeshCat 标签页即可看到机器人。点击 **Open Controls** 展开控制面板，尝试调整滑块，观察机器人运动学的变化。\n",
    "\n",
    "\n",
    "在控制面板中，展开 **▶ Scene / ▶ drake** 菜单。默认只显示“illustration”几何体（Drake 对可视化几何体的称呼）。勾选“proximity”可显示碰撞几何体（红色），勾选“inertia”可显示每个刚体的等效惯性椭球体（蓝色）。使用 α 滑块调整几何体透明度。调试仿真时，记得关注这些额外视图；通常，仅靠可视化几何体无法反映动力学的全部信息。"
   ]
  },
  {
   "cell_type": "code",
   "execution_count": null,
   "metadata": {
    "cell_id": "00901e7543a349518acc88ac4503da01",
    "deepnote_cell_type": "code",
    "execution_context_id": "a2729ba5-a2f7-4026-b951-e4b548295acc",
    "execution_millis": 22175,
    "execution_start": 1757194895128,
    "source_hash": "870c6c2e"
   },
   "outputs": [
    {
     "name": "stderr",
     "output_type": "stream",
     "text": [
      "INFO:drake:Click 'Stop Running' or press Esc to quit\n"
     ]
    }
   ],
   "source": [
    "# 首先我们选择 Drake 的一个示例模型文件：KUKA iiwa 机械臂。\n",
    "iiwa7_model_url = (\n",
    "    \"package://drake_models/iiwa_description/sdf/\"\n",
    "    \"iiwa7_with_box_collision.sdf\")\n",
    "\n",
    "# 创建模型可视化器并添加机械臂模型。\n",
    "visualizer = ModelVisualizer(meshcat=meshcat)\n",
    "visualizer.parser().AddModels(url=iiwa7_model_url)\n",
    "\n",
    "# 如果该笔记本在测试模式下运行，需要在无用户交互时自动停止。\n",
    "# 交互式模型可视化时通常不需要 'loop_once' 参数。\n",
    "test_mode = True if \"TEST_SRCDIR\" in os.environ else False\n",
    "\n",
    "# 启动交互式可视化器。\n",
    "# 在 MeshCat 中点击“Stop Running”按钮结束可视化。\n",
    "visualizer.Run(loop_once=test_mode)"
   ]
  },
  {
   "cell_type": "code",
   "execution_count": null,
   "metadata": {
    "cell_id": "36139f39320b46e6bea7827bf8089d2a",
    "deepnote_cell_type": "code",
    "execution_context_id": "c8ac24ec-17a8-4b9c-b826-4b429de40bf9",
    "execution_millis": 1040,
    "execution_start": 1755522551435,
    "source_hash": "bcd7aa56"
   },
   "outputs": [
    {
     "name": "stderr",
     "output_type": "stream",
     "text": [
      "INFO:drake:Click 'Stop Running' or press Esc to quit\n"
     ]
    }
   ],
   "source": [
    "# 再选择一个 Drake 的示例模型文件：Schunk WSG 夹爪。\n",
    "schunk_wsg50_model_url = (\n",
    "    \"package://drake_models/wsg_50_description/sdf/\"\n",
    "    \"schunk_wsg_50_with_tip.sdf\")\n",
    "\n",
    "# 创建新的模型可视化器并添加夹爪模型。\n",
    "visualizer = ModelVisualizer(meshcat=meshcat)\n",
    "visualizer.parser().AddModels(url=schunk_wsg50_model_url)\n",
    "\n",
    "# 启动交互式可视化器。\n",
    "# 在 MeshCat 中点击“Stop Running”按钮结束可视化。\n",
    "visualizer.Run(loop_once=test_mode)"
   ]
  },
  {
   "cell_type": "markdown",
   "metadata": {
    "cell_id": "79b91ea2e1914c9289f139e4c3c2256b",
    "deepnote_cell_type": "markdown"
   },
   "source": [
    "## 创建自定义模型\n",
    "\n",
    "\n",
    "除了加载 Drake 内置的 SDFormat 文件外，你还可以在本教程中创建自己的 SDFormat 模型并进行可视化。数据可以来自文件，也可以直接用字符串。\n",
    "\n",
    "\n",
    "我们可以创建一个非常简单的 SDFormat，其中包含一个带有单个 link 的模型。在 link 内部，我们声明质量和惯性属性，并用一个圆柱体作为可视化和碰撞几何体。\n",
    "\n",
    "\n",
    "你可以修改下面的代码片段，改变圆柱体的尺寸或材质属性。"
   ]
  },
  {
   "cell_type": "code",
   "execution_count": null,
   "metadata": {
    "cell_id": "d3eec649d9c74cbcb877a5c064ac3e3f",
    "deepnote_cell_type": "code",
    "execution_context_id": "c8ac24ec-17a8-4b9c-b826-4b429de40bf9",
    "execution_millis": 0,
    "execution_start": 1755522552535,
    "source_hash": "7fa0c02c"
   },
   "outputs": [],
   "source": [
    "# 定义一个简单的圆柱体模型。\n",
    "cylinder_sdf = \"\"\"<?xml version=\\\"1.0\\\"?>\n",
    "<sdf version=\\\"1.7\\\">\n",
    "  <model name=\\\"cylinder\\\">\n",
    "    <pose>0 0 0 0 0 0</pose>\n",
    "    <link name=\\\"cylinder_link\\\">\n",
    "      <inertial>\n",
    "        <mass>1.0</mass>\n",
    "        <inertia>\n",
    "          <ixx>0.005833</ixx>\n",
    "          <ixy>0.0</ixy>\n",
    "          <ixz>0.0</ixz>\n",
    "          <iyy>0.005833</iyy>\n",
    "          <iyz>0.0</iyz>\n",
    "          <izz>0.005</izz>\n",
    "        </inertia>\n",
    "      </inertial>\n",
    "      <collision name=\\\"collision\\\">\n",
    "        <geometry>\n",
    "          <cylinder>\n",
    "            <radius>0.1</radius>\n",
    "            <length>0.2</length>\n",
    "          </cylinder>\n",
    "        </geometry>\n",
    "      </collision>\n",
    "      <visual name=\\\"visual\\\">\n",
    "        <geometry>\n",
    "          <cylinder>\n",
    "            <radius>0.1</radius>\n",
    "            <length>0.2</length>\n",
    "          </cylinder>\n",
    "        </geometry>\n",
    "        <material>\n",
    "          <diffuse>1.0 1.0 1.0 1.0</diffuse>\n",
    "        </material>\n",
    "      </visual>\n",
    "    </link>\n",
    "  </model>\n",
    "</sdf>\n",
    "\"\"\""
   ]
  },
  {
   "cell_type": "markdown",
   "metadata": {
    "cell_id": "498559c9d9b642368074dccba7a6c1c5",
    "deepnote_cell_type": "markdown"
   },
   "source": [
    "除了 `AddModels` 方法外，`ModelVisualizer` 类还可以访问其 `Parser` 对象；你可以通过完整的解析器 API 添加模型，例如从我们刚刚创建的字符串缓冲区加载模型。"
   ]
  },
  {
   "cell_type": "code",
   "execution_count": null,
   "metadata": {
    "cell_id": "590fa50be9fc47b0be68ae25f911c951",
    "deepnote_cell_type": "code",
    "execution_context_id": "c8ac24ec-17a8-4b9c-b826-4b429de40bf9",
    "execution_millis": 1065,
    "execution_start": 1755522552615,
    "source_hash": "83cbde6f"
   },
   "outputs": [
    {
     "name": "stderr",
     "output_type": "stream",
     "text": [
      "INFO:drake:Click 'Stop Running' or press Esc to quit\n"
     ]
    }
   ],
   "source": [
    "# 可视化刚刚定义的 SDFormat 字符串中的圆柱体模型。\n",
    "visualizer = ModelVisualizer(meshcat=meshcat)\n",
    "visualizer.parser().AddModelsFromString(cylinder_sdf, \"sdf\")\n",
    "\n",
    "# 在 MeshCat 中点击“Stop Running”按钮结束可视化。\n",
    "visualizer.Run(loop_once=test_mode)"
   ]
  },
  {
   "cell_type": "markdown",
   "metadata": {
    "cell_id": "61c2999747e247a491f4cb3e081ea631",
    "deepnote_cell_type": "markdown"
   },
   "source": [
    "### 可视化与碰撞几何体\n",
    "\n",
    "\n",
    "在 KUKA 机械臂示例中，如果你多次切换 MeshCat 控制面板中的 `drake/proximity` 复选框，会看到包裹 KUKA 机械臂的红色盒子出现和消失。这些就是在 `iiwa7_with_box_collision.sdf` 中定义的碰撞几何体，通常被运动规划或碰撞检测模块使用。\n",
    "\n",
    "\n",
    "虽然我们可以用同一个网格表示可视化和碰撞几何体，但用基本体近似复杂网格（如 KUKA 机械臂）可以大大减少计算量。判断两个圆柱体是否碰撞比判断两个不规则网格要容易得多。因此，我们通常用网格作为可视化几何体，而用各种基本体作为碰撞几何体。\n",
    "\n",
    "\n",
    "### 为你的模型定义碰撞几何体\n",
    "\n",
    "\n",
    "碰撞几何体只是对实际形状的近似，我们希望这种近似尽量贴合实际，但又不要过于膨胀。例如，与其用一个大盒子包住 L 形模型，不如用两个盒子或圆柱体更好地近似形状。\n",
    "\n",
    "\n",
    "这需要在近似精度和计算效率之间权衡。可以先用粗略近似，观察仿真中是否有异常（如明明没碰撞却检测到碰撞），再逐步优化。\n",
    "\n",
    "\n",
    "### 用 SDFormat 包裹网格文件\n",
    "\n",
    "\n",
    "你可能有一个物体的网格文件，想把它加入仿真。最简单的方法是直接将 OBJ 文件传给 `Parser.AddModels`，此时会采用默认的缩放、质量等参数。\n",
    "\n",
    "\n",
    "如果默认参数不够用，你应该创建一个 SDFormat 包裹文件，指定额外属性（质量、惯性、缩放、顺应性等），然后加载该文件。你可以用 [pydrake.multibody.mesh_to_model](https://drake.mit.edu/pydrake/pydrake.multibody.mesh_to_model.html) 命令行工具生成一个基础 SDFormat 文件，再进一步自定义。\n",
    "\n",
    "\n",
    "另一个有趣的新工具是 [obj2mjcf](https://github.com/kevinzakka/obj2mjcf/)，它也能处理网格。Drake 可以加载 MuJoCo XML 文件，但目前对 MuJoCo 文件格式的支持还不够完善，可能需要手动调整。\n",
    "\n",
    "\n",
    "### 用网格作为碰撞几何体\n",
    "\n",
    "\n",
    "有时你需要为仿真提供详细的碰撞几何体，例如对不规则物体进行灵巧操作时，可以直接用网格作为碰撞几何体。\n",
    "\n",
    "\n",
    "当 OBJ 网格作为基本接触模型（点接触模型）的碰撞几何体时，Drake 会自动计算其凸包并使用。如果需要非凸碰撞几何体，建议用凸分解工具将网格分解为多个凸形状。常用的工具有 [V-HACD](https://github.com/kmammou/v-hacd/)，[convex_decomp_to_sdf](https://github.com/gizatt/convex_decomp_to_sdf) 是我们常用的 Drake 包装器。\n",
    "\n",
    "\n",
    "对于更复杂的接触模型（如 hydroelastic 接触），Drake 可以直接利用实际网格进行接触力计算。详见 [Hydroelastic 用户指南](https://drake.mit.edu/doxygen_cxx/group__hydroelastic__user__guide.html)。"
   ]
  },
  {
   "cell_type": "markdown",
   "metadata": {
    "cell_id": "1173d57d2975423e95abcd4edb918e69",
    "deepnote_cell_type": "markdown"
   },
   "source": [
    "### Drake 对 SDFormat/URDF 的扩展\n",
    "\n",
    "\n",
    "希望你现在已经清楚如何在 Drake 中通过 MeshCat 创建、加载和可视化基本的 SDFormat 和 URDF 模型。\n",
    "\n",
    "\n",
    "在 Drake 中，我们通过添加自定义标签扩展了 URDF 和 SDFormat，以支持 Drake 特有的功能。下面的例子中，在 `collision` 标签下添加了 `drake:compliant_hydroelastic` 自定义标签，用于声明特定几何体的接触模型。另一方面，部分格式中的某些特性 Drake 的解析器并不支持，解析时会发出警告、忽略，或两者兼有。\n",
    "\n",
    "\n",
    "这是更高级的话题，完整支持和不支持的标签列表请查阅 [Drake 文档](https://drake.mit.edu/doxygen_cxx/group__multibody__parsing.html)。\n",
    "\n",
    "\n",
    "```\n",
    "\n",
    "<link name=\"example_link\">\n",
    "\n",
    "  <inertial>\n",
    "\n",
    "    ...\n",
    "\n",
    "  </inertial>\n",
    "\n",
    "  <visual name=\"example_visual\">\n",
    "\n",
    "    ...\n",
    "\n",
    "  </visual>\n",
    "\n",
    "  <collision name=\"example_collision\">\n",
    "\n",
    "    <pose>0 0 0 0 0 0</pose>\n",
    "\n",
    "    <geometry>\n",
    "\n",
    "      ...\n",
    "\n",
    "    </geometry>\n",
    "\n",
    "    <drake:proximity_properties>\n",
    "\n",
    "      ...\n",
    "\n",
    "      <drake:compliant_hydroelastic/>\n",
    "\n",
    "    </drake:proximity_properties>\n",
    "\n",
    "  </collision>\n",
    "\n",
    "</link>\n",
    "\n",
    "```"
   ]
  },
  {
   "cell_type": "markdown",
   "metadata": {
    "cell_id": "8abacf4e9f80451b8b466110d195e1ad",
    "deepnote_cell_type": "markdown"
   },
   "source": [
    "## 创建（或移植）包含多个机器人/物体的“场景”\n",
    "\n",
    "\n",
    "最后，我们来看一个更真实的仿真场景，包含多个物体相互作用。在仿真中，我们将加载三个物体：一个 Drake 自带的饼干盒，以及本教程自定义的圆柱体和桌子。\n",
    "\n",
    "\n",
    "仿真开始时，两个物体被放置在一定高度，然后在重力作用下自由落到桌面上。\n",
    "\n",
    "\n",
    "### 创建简化版桌子\n",
    "\n",
    "\n",
    "这与上面的圆柱体示例类似，但这里我们将 XML 内容保存为 SDFormat 文件，以便在仿真中使用。"
   ]
  },
  {
   "cell_type": "code",
   "execution_count": null,
   "metadata": {
    "cell_id": "10da5e55c4974a42a9ce505cba246802",
    "deepnote_cell_type": "code",
    "execution_context_id": "c8ac24ec-17a8-4b9c-b826-4b429de40bf9",
    "execution_millis": 0,
    "execution_start": 1755522553725,
    "source_hash": "a306ded"
   },
   "outputs": [],
   "source": [
    "# 创建一个 Drake 临时目录用于存储文件。\n",
    "# 注意：本教程会在 `/tmp/robotlocomotion_drake_xxxxxx` 目录下创建一个临时文件（table_top.sdf）。\n",
    "temp_dir = temp_directory()\n",
    "\n",
    "# 创建桌面 SDFormat 模型。\n",
    "table_top_sdf_file = os.path.join(temp_dir, \"table_top.sdf\")\n",
    "table_top_sdf = \"\"\"<?xml version=\\\"1.0\\\"?>\n",
    "<sdf version=\\\"1.7\\\">\n",
    "  <model name=\\\"table_top\\\">\n",
    "    <link name=\\\"table_top_link\\\">\n",
    "      <visual name=\\\"visual\\\">\n",
    "        <pose>0 0 0.445 0 0 0</pose>\n",
    "        <geometry>\n",
    "          <box>\n",
    "            <size>0.55 1.1 0.05</size>\n",
    "          </box>\n",
    "        </geometry>\n",
    "        <material>\n",
    "         <diffuse>0.9 0.8 0.7 1.0</diffuse>\n",
    "        </material>\n",
    "      </visual>\n",
    "      <collision name=\\\"collision\\\">\n",
    "        <pose>0 0 0.445  0 0 0</pose>\n",
    "        <geometry>\n",
    "          <box>\n",
    "            <size>0.55 1.1 0.05</size>\n",
    "          </box>\n",
    "        </geometry>\n",
    "      </collision>\n",
    "    </link>\n",
    "    <frame name=\\\"table_top_center\\\">\n",
    "      <pose relative_to=\\\"table_top_link\\\">0 0 0.47 0 0 0</pose>\n",
    "    </frame>\n",
    "  </model>\n",
    "</sdf>\n",
    "\n",
    "\"\"\"\n",
    "\n",
    "with open(table_top_sdf_file, \"w\") as f:\n",
    "    f.write(table_top_sdf)"
   ]
  },
  {
   "cell_type": "markdown",
   "metadata": {
    "cell_id": "416a57e48efe4079b79e1888755dac63",
    "deepnote_cell_type": "markdown"
   },
   "source": [
    "### Drake 术语解释\n",
    "\n",
    "\n",
    "在 Drake 中，[`System`](https://drake.mit.edu/doxygen_cxx/classdrake_1_1systems_1_1_system.html) 是具有输入/输出端口的基本构件，可以与其他 System 连接。例如 MultibodyPlant 和 SceneGraph 都是 System。[`Diagram`](https://drake.mit.edu/doxygen_cxx/classdrake_1_1systems_1_1_diagram.html) 用于表示由多个 System 互连组成的元系统。\n",
    "\n",
    "\n",
    "每个 System 和 Diagram 都有自己的 [`Context`](https://drake.mit.edu/doxygen_cxx/classdrake_1_1systems_1_1_context.html) 表示其状态，仿真过程中会不断更新。\n",
    "\n",
    "\n",
    "Context 和 Diagram 是仿真所需的全部信息。只要 Diagram 的 Context 相同，仿真就是完全确定且可复现的。\n",
    "\n",
    "\n",
    "更多相关内容请参考 [建模动力系统](https://github.com/RobotLocomotion/drake/blob/master/tutorials/dynamical_systems.ipynb)。\n",
    "\n",
    "\n",
    "*注意：Drake 主要使用 [Doxygen C++ 文档](https://drake.mit.edu/doxygen_cxx/index.html) 作为 API 文档，同时也为 Python 用户提供了 [Python API 文档](https://drake.mit.edu/pydrake/)。*\n",
    "\n",
    "\n",
    "### 向“场景”中加载不同物体\n",
    "\n",
    "\n",
    "在 `create_scene()` 函数中，我们首先创建 `pydrake.multibody.MultibodyPlant`、`pydrake.multibody.SceneGraph` 和 `pydrake.multibody.parsing.Parser`。\n",
    "\n",
    "\n",
    "解析器用于将模型加载到 MultibodyPlant。本例中需要注意的是，我们将桌子与世界焊接（固定），而将饼干盒和圆柱体作为自由体处理。MultibodyPlant 设置好后，函数返回一个 Diagram，供 Drake Simulator 使用（此处用默认 context）。"
   ]
  },
  {
   "cell_type": "code",
   "execution_count": null,
   "metadata": {
    "cell_id": "1108db1d79ed48ceb531384cf4833ad4",
    "deepnote_cell_type": "code",
    "execution_context_id": "c8ac24ec-17a8-4b9c-b826-4b429de40bf9",
    "execution_millis": 0,
    "execution_start": 1755522553775,
    "source_hash": "8a8dfc0"
   },
   "outputs": [],
   "source": [
    "def create_scene(sim_time_step):\n",
    "    # 清理 Meshcat 实例。\n",
    "    meshcat.Delete()\n",
    "    meshcat.DeleteAddedControls()\n",
    "\n",
    "    builder = DiagramBuilder()\n",
    "    plant, scene_graph = AddMultibodyPlantSceneGraph(\n",
    "        builder, time_step=sim_time_step)\n",
    "    parser = Parser(builder)\n",
    "\n",
    "    # 加载模型。\n",
    "    # 加载我们创建的桌面和圆柱体模型。\n",
    "    parser.AddModelsFromString(cylinder_sdf, \"sdf\")\n",
    "    parser.AddModels(table_top_sdf_file)\n",
    "    # 加载 Drake 自带的饼干盒模型。\n",
    "    parser.AddModels(\n",
    "        url=\"package://drake_models/ycb/003_cracker_box.sdf\")\n",
    "    # 直接加载 Drake 的 OBJ 文件，无需 SDFormat 包裹文件。此时质量和惯性将根据网格体积（假设为水）自动推断，网格同时用于碰撞和可视化几何体。\n",
    "    parser.AddModels(\n",
    "        url=\"package://drake_models/ycb/meshes/004_sugar_box_textured.obj\")\n",
    "\n",
    "    # 将桌子焊接到世界，使其在仿真过程中保持固定。\n",
    "    table_frame = plant.GetFrameByName(\"table_top_center\")\n",
    "    plant.WeldFrames(plant.world_frame(), table_frame)\n",
    "    # 加载场景后，完成 plant 的设置。\n",
    "    plant.Finalize()\n",
    "    # 使用默认 context 计算桌子在世界坐标系下的变换，但这不是 Diagram 消耗的 context。\n",
    "    plant_context = plant.CreateDefaultContext()\n",
    "\n",
    "    # 设置自由体（自定义圆柱体、饼干盒、糖盒）的初始位姿。\n",
    "    cylinder = plant.GetBodyByName(\"cylinder_link\")\n",
    "    X_WorldTable = table_frame.CalcPoseInWorld(plant_context)\n",
    "    X_TableCylinder = RigidTransform(\n",
    "        RollPitchYaw(np.asarray([90, 0, 0]) * np.pi / 180), p=[0,0,0.5])\n",
    "    X_WorldCylinder = X_WorldTable.multiply(X_TableCylinder)\n",
    "    plant.SetDefaultFreeBodyPose(cylinder, X_WorldCylinder)\n",
    "\n",
    "    cracker_box = plant.GetBodyByName(\"base_link_cracker\")\n",
    "    X_TableCracker = RigidTransform(\n",
    "        RollPitchYaw(np.asarray([45, 30, 0]) * np.pi / 180), p=[0,0,0.8])\n",
    "    X_WorldCracker = X_WorldTable.multiply(X_TableCracker)\n",
    "    plant.SetDefaultFreeBodyPose(cracker_box, X_WorldCracker)\n",
    "\n",
    "    sugar_box = plant.GetBodyByName(\"004_sugar_box_textured\")\n",
    "    X_TableSugar = RigidTransform(p=[0,-0.25,0.8])\n",
    "    X_WorldSugar = X_WorldTable.multiply(X_TableSugar)\n",
    "    plant.SetDefaultFreeBodyPose(sugar_box, X_WorldSugar)\n",
    "    \n",
    "    # 添加可视化以显示几何体。\n",
    "    AddDefaultVisualization(builder=builder, meshcat=meshcat)\n",
    "\n",
    "    diagram = builder.Build()\n",
    "    return diagram"
   ]
  },
  {
   "cell_type": "markdown",
   "metadata": {
    "cell_id": "111fade2196049e1b857f1db9c4da94a",
    "deepnote_cell_type": "markdown"
   },
   "source": [
    "## 运行简单仿真\n",
    "\n",
    "\n",
    "我们已经准备好启动仿真器了！运行下面的代码块，在 MeshCat 标签页中可视化仿真。\n",
    "\n",
    "\n",
    "这个简单仿真是一个无源系统，物体仅受重力作用自由下落。结果是否符合你的预期？你还可以在 MeshCat 标签页中使用 **reset** 和 **play** 按钮重新运行仿真。\n",
    "\n",
    "\n",
    "尝试调整 `sim_time_step` 并重新运行仿真。建议先用较小的值，然后逐步增大，观察行为是否有变化。"
   ]
  },
  {
   "cell_type": "code",
   "execution_count": null,
   "metadata": {
    "cell_id": "2a369e8bb3f74258a5f3be8ccd1b83e8",
    "deepnote_cell_type": "code",
    "execution_context_id": "c8ac24ec-17a8-4b9c-b826-4b429de40bf9",
    "execution_millis": 3410,
    "execution_start": 1755522554295,
    "source_hash": "979b2665"
   },
   "outputs": [],
   "source": [
    "def initialize_simulation(diagram):\n",
    "    simulator = Simulator(diagram)\n",
    "    simulator.Initialize()\n",
    "    simulator.set_target_realtime_rate(1.)\n",
    "    return simulator\n",
    "\n",
    "def run_simulation(sim_time_step):\n",
    "    diagram = create_scene(sim_time_step)\n",
    "    simulator = initialize_simulation(diagram)\n",
    "    meshcat.StartRecording()\n",
    "    finish_time = 0.1 if test_mode else 2.0\n",
    "    simulator.AdvanceTo(finish_time)\n",
    "    meshcat.PublishRecording()\n",
    "\n",
    "# 用较小的时间步长运行仿真。可以尝试逐步增大该值！\n",
    "run_simulation(sim_time_step=0.0001)"
   ]
  },
  {
   "cell_type": "markdown",
   "metadata": {
    "cell_id": "bff7c0d9a78d409aa2fa3588be7e2d88",
    "deepnote_cell_type": "markdown"
   },
   "source": [
    "## 快速预览 hydroelastic 接触\n",
    "\n",
    "\n",
    "只需稍作配置修改，我们就可以用 hydroelastic 接触模型对所有物体进行仿真，无需编辑模型文件。这种方法为所有物体应用了合理的默认值，但未必适合特定场景。要获得更精细的控制，需要编辑模型文件。更多信息请参见 [hydroelastic 接触基础](http://localhost:8888/notebooks/hydroelastic_contact_basics.ipynb) 教程。"
   ]
  },
  {
   "cell_type": "code",
   "execution_count": null,
   "metadata": {
    "cell_id": "c8acbe0dadd241e69758f99d2fb1ffa5",
    "deepnote_cell_type": "code",
    "execution_context_id": "c8ac24ec-17a8-4b9c-b826-4b429de40bf9",
    "execution_millis": 1863,
    "execution_start": 1755522558255,
    "source_hash": "c2de1d38"
   },
   "outputs": [],
   "source": [
    "def run_all_hydroelastic_simulation(sim_time_step):\n",
    "    diagram = create_scene(sim_time_step)\n",
    "    \n",
    "    # SceneGraphConfig 允许我们为所有物体统一修改默认的接触属性。\n",
    "    scene_graph = diagram.GetSubsystemByName(\"scene_graph\")\n",
    "    config = SceneGraphConfig()\n",
    "    config.default_proximity_properties.compliance_type = \"compliant\"\n",
    "    config.default_proximity_properties.hunt_crossley_dissipation = 1.0\n",
    "    scene_graph.set_config(config)\n",
    "    \n",
    "    simulator = initialize_simulation(diagram)\n",
    "    meshcat.StartRecording()\n",
    "    finish_time = 0.1 if test_mode else 2.0\n",
    "    simulator.AdvanceTo(finish_time)\n",
    "    meshcat.PublishRecording()\n",
    "\n",
    "# 运行仿真，与上面类似。注意此时接触物理已不同，接触力箭头变为红色而非绿色。\n",
    "run_all_hydroelastic_simulation(sim_time_step=0.002)"
   ]
  },
  {
   "cell_type": "markdown",
   "metadata": {
    "cell_id": "80e52c827a3b473ab431aa058a267274",
    "deepnote_cell_type": "markdown"
   },
   "source": [
    "## 调试你的 MultibodyPlant/SceneGraph\n",
    "\n",
    "\n",
    "有时仿真结果会出乎意料，例如物理行为异常或程序崩溃，通常是因为仿真设置与真实物理属性不符。\n",
    "\n",
    "\n",
    "### 调试惯性属性\n",
    "\n",
    "\n",
    "常见问题之一是部分物体缺少惯性属性，导致仿真步长极小（如 < 0.001s），或出现 `Delta > 0` 错误，或惯性矩阵无效的警告。\n",
    "\n",
    "\n",
    "请务必检查惯性属性，尤其是关注动力学行为时。可通过 `ModelVisualizer` 的惯性可视化层直观查看。在控制面板 `Scene >> drake` 下勾选 `inertia` 复选框。\n",
    "\n",
    "\n",
    "要自动计算 URDF 或 SDFormat 模型的惯性，可尝试 [fix_inertia](https://drake.mit.edu/pydrake/pydrake.multibody.fix_inertia.html) 工具。\n",
    "\n",
    "\n",
    "### 调试质量属性\n",
    "\n",
    "\n",
    "如果物体被焊接到世界，则无需指定质量。但如果可移动物体质量为零，会触发错误，说明仿真尚未完全指定。\n",
    "\n",
    "\n",
    "提示：可移动物体的质量/惯性是否合理？尝试修改并重新运行仿真，观察变化。"
   ]
  },
  {
   "cell_type": "markdown",
   "metadata": {
    "cell_id": "1b42970d70414d92ad6ba0dddada9b13",
    "deepnote_cell_type": "markdown"
   },
   "source": [
    "## 后续学习建议\n",
    "\n",
    "\n",
    "本教程帮助你搭建了物理引擎（MultibodyPlant）和几何引擎（SceneGraph），并在 MeshCat 中可视化仿真。但大多数机器人仿真还需要更多内容。接下来，你可能需要建模传感器、底层控制系统，甚至高层感知、规划和控制系统。\n",
    "\n",
    "\n",
    "以下资源可供进一步学习：\n",
    "\n",
    "\n",
    "- [Drake MultibodyPlant](https://drake.mit.edu/doxygen_cxx/classdrake_1_1multibody_1_1_multibody_plant.html)\n",
    "\n",
    "- [Drake SceneGraph](https://drake.mit.edu/doxygen_cxx/classdrake_1_1geometry_1_1_scene_graph.html)\n",
    "\n",
    "- [Drake 拾取放置机器人基础教程](https://manipulation.csail.mit.edu/pick.html)\n",
    "\n",
    "- [hydroelastic 接触基础教程](./hydroelastic_contact_basics.ipynb)"
   ]
  },
  {
   "cell_type": "markdown",
   "metadata": {
    "cell_id": "573a0e5eb75b429daf98cc8932ef5c1f",
    "deepnote_cell_type": "markdown"
   },
   "source": []
  }
 ],
 "metadata": {
  "deepnote_notebook_id": "97bc7aae48a04686820c7a01b548d7fc",
  "kernelspec": {
   "display_name": "Python 3",
   "language": "python",
   "name": "python3"
  },
  "language_info": {
   "codemirror_mode": {
    "name": "ipython",
    "version": 3
   },
   "file_extension": ".py",
   "mimetype": "text/x-python",
   "name": "python",
   "nbconvert_exporter": "python",
   "pygments_lexer": "ipython3",
   "version": "3.10.12"
  }
 },
 "nbformat": "4",
 "nbformat_minor": "0"
}
