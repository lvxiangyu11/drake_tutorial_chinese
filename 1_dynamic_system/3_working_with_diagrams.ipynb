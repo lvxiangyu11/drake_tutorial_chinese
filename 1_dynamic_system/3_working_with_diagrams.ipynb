{
 "cells": [
  {
   "cell_type": "markdown",
   "metadata": {},
   "source": [
    "# 本章要解决的问题\n",
    "\n",
    "本章将介绍如何使用Drake的Diagram机制来组合和管理多个动力学系统，包括：\n",
    "- 如何构建和可视化系统的Diagram结构\n",
    "- Diagram与子系统的关系及其Context的操作方法\n",
    "- Diagram的嵌套与端口导出\n",
    "- Diagram的标量类型支持与进阶用法\n",
    "\n",
    "通过本章学习，你将能够灵活地用Diagram组织复杂的系统结构。"
   ]
  },
  {
   "cell_type": "markdown",
   "metadata": {
    "cell_id": "9f21eaa217044c8494203bffdcb74a80",
    "deepnote_cell_type": "markdown"
   },
   "source": [
    "# 使用图（Diagrams）进行系统建模\n",
    "关于如何运行本教程笔记本，请参见 [索引](./index.ipynb)。"
   ]
  },
  {
   "cell_type": "markdown",
   "metadata": {
    "cell_id": "78edf5d023384ba9b38dfdc6a268b346",
    "deepnote_cell_type": "markdown"
   },
   "source": [
    "## 概述\n",
    "\n",
    "[建模动力系统](./dynamical_systems.ipynb) 教程对Drake的系统框架进行了基础介绍，包括如何将多个系统组装成一个 `Diagram`。在本笔记本中，我们将更全面地介绍如何使用Diagram。\n",
    "\n",
    "方块图（Block diagrams）是系统理论和控制中的标准建模抽象。它们为编写描述复杂动力系统的模块化代码提供了强大的抽象能力。"
   ]
  },
  {
   "cell_type": "code",
   "execution_count": 1,
   "metadata": {
    "cell_id": "840ed8206c20406ab6545000e0837dc9",
    "deepnote_cell_type": "code",
    "execution_context_id": "dd82baa8-1783-4f0d-aec3-089ac3cd33a6",
    "execution_millis": 198,
    "execution_start": 1752789568888,
    "source_hash": "1a8a1a80"
   },
   "outputs": [],
   "source": [
    "import numpy as np\n",
    "import pydot\n",
    "from pydrake.examples import PendulumPlant\n",
    "from pydrake.systems.controllers import PidController\n",
    "from pydrake.systems.drawing import plot_system_graphviz\n",
    "from pydrake.systems.framework import Diagram, DiagramBuilder, LeafSystem\n",
    "from pydrake.systems.primitives import AffineSystem, LogVectorOutput"
   ]
  },
  {
   "cell_type": "markdown",
   "metadata": {
    "cell_id": "c1f768105d484ffc92c027996aeb2a2c",
    "deepnote_cell_type": "markdown"
   },
   "source": [
    "## 构建和可视化你的Diagram\n",
    "\n",
    "让我们从[入门教程](./1_动态系统建模.ipynb)中的 `Diagram` 示例开始回顾。"
   ]
  },
  {
   "cell_type": "code",
   "execution_count": 2,
   "metadata": {
    "cell_id": "81152de349714a2c9c4e56b0cfa80e13",
    "deepnote_cell_type": "code",
    "execution_context_id": "dd82baa8-1783-4f0d-aec3-089ac3cd33a6",
    "execution_millis": 995,
    "execution_start": 1752789569151,
    "source_hash": "1fb54ee4"
   },
   "outputs": [
    {
     "name": "stderr",
     "output_type": "stream",
     "text": [
      "/home/lvxiangyu11/.local/lib/python3.10/site-packages/matplotlib/projections/__init__.py:63: UserWarning: Unable to import Axes3D. This may be due to multiple versions of Matplotlib being installed (e.g. as a system package and as a pip package). As a result, the 3D projection is not available.\n",
      "  warnings.warn(\"Unable to import Axes3D. This may be due to multiple versions of \"\n"
     ]
    },
    {
     "data": {
      "image/svg+xml": [
       "<svg xmlns=\"http://www.w3.org/2000/svg\" xmlns:xlink=\"http://www.w3.org/1999/xlink\" width=\"487pt\" height=\"432pt\" viewBox=\"0.00 0.00 487.00 432.00\">\n",
       "<g id=\"graph0\" class=\"graph\" transform=\"scale(1 1) rotate(0) translate(4 428)\">\n",
       "<title>_6</title>\n",
       "<polygon fill=\"white\" stroke=\"transparent\" points=\"-4,4 -4,-428 483,-428 483,4 -4,4\"/>\n",
       "<g id=\"clust1\" class=\"cluster\">\n",
       "<title>cluster6diagram</title>\n",
       "<polygon fill=\"none\" stroke=\"black\" points=\"8,-8 8,-416 471,-416 471,-8 8,-8\"/>\n",
       "<text text-anchor=\"start\" x=\"205.5\" y=\"-397.8\" font-family=\"Times,serif\" font-weight=\"bold\" font-size=\"14.00\">Diagram</text>\n",
       "<text text-anchor=\"start\" x=\"124.5\" y=\"-383.8\" font-family=\"Times,serif\" font-size=\"14.00\">name=PID-controlled Pendulum</text>\n",
       "</g>\n",
       "<g id=\"clust2\" class=\"cluster\">\n",
       "<title>clusters6in</title>\n",
       "<polygon fill=\"lightgrey\" stroke=\"lightgrey\" points=\"16,-289 16,-364 233,-364 233,-289 16,-289\"/>\n",
       "<text text-anchor=\"middle\" x=\"124.5\" y=\"-348.8\" font-family=\"Times,serif\" font-size=\"14.00\">input ports</text>\n",
       "</g>\n",
       "<g id=\"clust3\" class=\"cluster\">\n",
       "<title>clusters6out</title>\n",
       "<polygon fill=\"lightgrey\" stroke=\"lightgrey\" points=\"278.5,-16 278.5,-91 437.5,-91 437.5,-16 278.5,-16\"/>\n",
       "<text text-anchor=\"middle\" x=\"358\" y=\"-75.8\" font-family=\"Times,serif\" font-size=\"14.00\">output ports</text>\n",
       "</g>\n",
       "<g id=\"clust4\" class=\"cluster\">\n",
       "<title>cluster6subsystems</title>\n",
       "<polygon fill=\"none\" stroke=\"white\" points=\"43.5,-99 43.5,-281 463,-281 463,-99 43.5,-99\"/>\n",
       "</g>\n",
       "<!-- s6in -->\n",
       "<g id=\"node1\" class=\"node\">\n",
       "<title>s6in</title>\n",
       "<polygon fill=\"none\" stroke=\"blue\" points=\"35.5,-304 35.5,-325 214.5,-325 214.5,-304 35.5,-304\"/>\n",
       "<text text-anchor=\"start\" x=\"38.5\" y=\"-310.8\" font-family=\"Times,serif\" font-size=\"14.00\">controller_desired_state</text>\n",
       "</g>\n",
       "<!-- s3 -->\n",
       "<g id=\"node4\" class=\"node\">\n",
       "<title>s3</title>\n",
       "<polygon fill=\"none\" stroke=\"black\" points=\"269,-235 269,-269 447,-269 447,-235 269,-235\"/>\n",
       "<text text-anchor=\"start\" x=\"304.5\" y=\"-255.8\" font-family=\"Times,serif\" font-weight=\"bold\" font-size=\"14.00\">PidController</text>\n",
       "<text text-anchor=\"start\" x=\"297.5\" y=\"-241.8\" font-family=\"Times,serif\" font-size=\"14.00\">name=controller</text>\n",
       "<polygon fill=\"none\" stroke=\"black\" points=\"269,-214 269,-235 390,-235 390,-214 269,-214\"/>\n",
       "<text text-anchor=\"start\" x=\"272\" y=\"-220.8\" font-family=\"Times,serif\" font-size=\"14.00\">estimated_state</text>\n",
       "<polygon fill=\"none\" stroke=\"black\" points=\"390,-193 390,-235 447,-235 447,-193 390,-193\"/>\n",
       "<text text-anchor=\"start\" x=\"393\" y=\"-210.3\" font-family=\"Times,serif\" font-size=\"14.00\">control</text>\n",
       "<polygon fill=\"none\" stroke=\"black\" points=\"269,-193 269,-214 390,-214 390,-193 269,-193\"/>\n",
       "<text text-anchor=\"start\" x=\"281\" y=\"-199.8\" font-family=\"Times,serif\" font-size=\"14.00\">desired_state</text>\n",
       "</g>\n",
       "<!-- s6in&#45;&gt;s3 -->\n",
       "<g id=\"edge4\" class=\"edge\">\n",
       "<title>s6in:e-&gt;s3:w</title>\n",
       "<path fill=\"none\" stroke=\"blue\" d=\"M215.5,-314C266.24,-314 220.84,-218.06 258.06,-204.57\"/>\n",
       "<polygon fill=\"blue\" stroke=\"blue\" points=\"258.67,-208.02 268,-203 257.58,-201.1 258.67,-208.02\"/>\n",
       "</g>\n",
       "<!-- s6out -->\n",
       "<g id=\"node2\" class=\"node\">\n",
       "<title>s6out</title>\n",
       "<polygon fill=\"none\" stroke=\"green\" points=\"298,-31 298,-52 419,-52 419,-31 298,-31\"/>\n",
       "<text text-anchor=\"start\" x=\"301\" y=\"-37.8\" font-family=\"Times,serif\" font-size=\"14.00\">pendulum_state</text>\n",
       "</g>\n",
       "<!-- s2 -->\n",
       "<g id=\"node3\" class=\"node\">\n",
       "<title>s2</title>\n",
       "<polygon fill=\"none\" stroke=\"black\" points=\"59.5,-178 59.5,-212 189.5,-212 189.5,-178 59.5,-178\"/>\n",
       "<text text-anchor=\"start\" x=\"62.5\" y=\"-198.8\" font-family=\"Times,serif\" font-weight=\"bold\" font-size=\"14.00\">PendulumPlant</text>\n",
       "<text text-anchor=\"start\" x=\"63\" y=\"-184.8\" font-family=\"Times,serif\" font-size=\"14.00\">name=pendulum</text>\n",
       "<polygon fill=\"none\" stroke=\"black\" points=\"59.5,-157 59.5,-178 117.5,-178 117.5,-157 59.5,-157\"/>\n",
       "<text text-anchor=\"start\" x=\"76.5\" y=\"-163.8\" font-family=\"Times,serif\" font-size=\"14.00\">tau</text>\n",
       "<polygon fill=\"none\" stroke=\"black\" points=\"117.5,-157 117.5,-178 189.5,-178 189.5,-157 117.5,-157\"/>\n",
       "<text text-anchor=\"start\" x=\"135\" y=\"-163.8\" font-family=\"Times,serif\" font-size=\"14.00\">state</text>\n",
       "</g>\n",
       "<!-- s2&#45;&gt;s6out -->\n",
       "<g id=\"edge5\" class=\"edge\">\n",
       "<title>s2:e-&gt;s6out:w</title>\n",
       "<path fill=\"none\" stroke=\"green\" d=\"M190.5,-167C260.1,-167 227.46,-53.47 286.68,-41.94\"/>\n",
       "<polygon fill=\"green\" stroke=\"green\" points=\"287.36,-45.39 297,-41 286.72,-38.42 287.36,-45.39\"/>\n",
       "</g>\n",
       "<!-- s2&#45;&gt;s3 -->\n",
       "<g id=\"edge1\" class=\"edge\">\n",
       "<title>s2:e-&gt;s3:w</title>\n",
       "<path fill=\"none\" stroke=\"black\" d=\"M190.5,-167C229.58,-167 226.25,-214.62 258.04,-222.81\"/>\n",
       "<polygon fill=\"black\" stroke=\"black\" points=\"257.66,-226.29 268,-224 258.49,-219.34 257.66,-226.29\"/>\n",
       "</g>\n",
       "<!-- s4 -->\n",
       "<g id=\"node5\" class=\"node\">\n",
       "<title>s4</title>\n",
       "<polygon fill=\"none\" stroke=\"black\" points=\"298,-132 298,-166 419,-166 419,-132 298,-132\"/>\n",
       "<text text-anchor=\"start\" x=\"301\" y=\"-152.8\" font-family=\"Times,serif\" font-weight=\"bold\" font-size=\"14.00\">VectorLogSink</text>\n",
       "<text text-anchor=\"start\" x=\"310\" y=\"-138.8\" font-family=\"Times,serif\" font-size=\"14.00\">name=logger</text>\n",
       "<polygon fill=\"none\" stroke=\"black\" points=\"298,-111 298,-132 374,-132 374,-111 298,-111\"/>\n",
       "<text text-anchor=\"start\" x=\"320\" y=\"-117.8\" font-family=\"Times,serif\" font-size=\"14.00\">data</text>\n",
       "<polyline fill=\"none\" stroke=\"grey\" points=\"374,-111 419,-111 419,-132 \"/>\n",
       "</g>\n",
       "<!-- s2&#45;&gt;s4 -->\n",
       "<g id=\"edge3\" class=\"edge\">\n",
       "<title>s2:e-&gt;s4:w</title>\n",
       "<path fill=\"none\" stroke=\"black\" d=\"M190.5,-167C238.43,-167 244.73,-127.24 286.81,-121.65\"/>\n",
       "<polygon fill=\"black\" stroke=\"black\" points=\"287.24,-125.13 297,-121 286.8,-118.14 287.24,-125.13\"/>\n",
       "</g>\n",
       "<!-- s3&#45;&gt;s2 -->\n",
       "<g id=\"edge2\" class=\"edge\">\n",
       "<title>s3:e-&gt;s2:w</title>\n",
       "<path fill=\"none\" stroke=\"black\" d=\"M448,-214C459.12,-214 454.79,-196.94 447,-189 432.5,-174.22 281.23,-182.39 261,-178 231.44,-171.59 227.24,-159.04 197.5,-153.5 137.2,-142.27 104.44,-111.76 59.5,-153.5 58.47,-154.46 57.53,-155.71 56.78,-157.06\"/>\n",
       "<polygon fill=\"black\" stroke=\"black\" points=\"53.35,-157.74 58.5,-167 60.25,-156.55 53.35,-157.74\"/>\n",
       "</g>\n",
       "</g>\n",
       "</svg>"
      ],
      "text/plain": [
       "<IPython.core.display.SVG object>"
      ]
     },
     "metadata": {},
     "output_type": "display_data"
    }
   ],
   "source": [
    "def MakePidControlledPendulum():\n",
    "    # 使用DiagramBuilder添加和连接子系统。\n",
    "    builder = DiagramBuilder()\n",
    "\n",
    "    # 首先添加摆系统。\n",
    "    pendulum = builder.AddNamedSystem(\"pendulum\", PendulumPlant())\n",
    "\n",
    "    # 添加PID控制器。\n",
    "    controller = builder.AddNamedSystem(\"controller\",\n",
    "                                        PidController(kp=[10.], ki=[1.], kd=[1.]))\n",
    "\n",
    "    # 现在将控制器与摆系统连接。\n",
    "    builder.Connect(pendulum.get_state_output_port(),\n",
    "                    controller.get_input_port_estimated_state())\n",
    "    builder.Connect(controller.get_output_port_control(), pendulum.get_input_port())\n",
    "\n",
    "    # 将controller的desired_state输入端口导出为diagram的输入端口。\n",
    "    builder.ExportInput(controller.get_input_port_desired_state())\n",
    "    # 将pendulum的状态输出端口导出为diagram的输出端口。\n",
    "    builder.ExportOutput(pendulum.get_state_output_port())\n",
    "\n",
    "    # 记录摆系统的状态。\n",
    "    logger = LogVectorOutput(pendulum.get_state_output_port(), builder)\n",
    "    logger.set_name(\"logger\")\n",
    "\n",
    "    pid_controlled_pendulum = builder.Build()\n",
    "    pid_controlled_pendulum.set_name(\"PID-controlled Pendulum\")\n",
    "\n",
    "    return pid_controlled_pendulum, pendulum\n",
    "\n",
    "pid_controlled_pendulum, pendulum = MakePidControlledPendulum()\n",
    "\n",
    "# 可视化diagram。\n",
    "plot_system_graphviz(pid_controlled_pendulum, max_depth=2)"
   ]
  },
  {
   "cell_type": "markdown",
   "metadata": {
    "cell_id": "169e0ff80d9e48f5a65da6a9fd55c80f",
    "deepnote_cell_type": "markdown"
   },
   "source": [
    "### 一个System只能被添加到一个DiagramBuilder中\n",
    "\n",
    "需要注意的是，当你将一个系统添加到builder时，builder会拥有该系统的所有权。你不能将同一个系统添加到另一个builder中。目前，Drake会报告一个关于C++对象所有权的通用错误："
   ]
  },
  {
   "cell_type": "code",
   "execution_count": 3,
   "metadata": {
    "cell_id": "d2c6fc487d39422ca9240d91c4f7333b",
    "deepnote_cell_type": "code",
    "execution_context_id": "dd82baa8-1783-4f0d-aec3-089ac3cd33a6",
    "execution_millis": 1,
    "execution_start": 1752789570197,
    "source_hash": "e4f41740"
   },
   "outputs": [],
   "source": [
    "second_builder = DiagramBuilder()\n",
    "\n",
    "try:\n",
    "    # 尝试将同一个pendulum系统添加到另一个builder，会报错。\n",
    "    second_builder.AddSystem(pendulum)\n",
    "except RuntimeError as err:\n",
    "    print(err)"
   ]
  },
  {
   "cell_type": "markdown",
   "metadata": {
    "cell_id": "aeb7e556cb9143d59c9714da4cb0359e",
    "deepnote_cell_type": "markdown"
   },
   "source": [
    "这个概念很简单，但在jupyter笔记本中很容易遇到。如果你在一个单元格中定义了一个系统，在另一个单元格中将其添加到builder，然后连续两次运行第二个单元格，就会报错。因此，推荐的做法是立即（在同一个单元格中）构建系统并添加到builder，或者像上面那样用函数来构建系统。\n",
    "\n",
    "## 嵌套Diagram\n",
    "\n",
    "Diagram本身也是System，可以作为子系统实现模块化和封装。假设我们想在另一个场景中复用同样的PID控制摆系统，但希望将坐标系平移$\\pi$。我们可以通过在受控摆系统外部添加更多系统来实现。"
   ]
  },
  {
   "cell_type": "code",
   "execution_count": 4,
   "metadata": {
    "cell_id": "0e40b8bba82642b18d6bdcf779ad6077",
    "deepnote_cell_type": "code",
    "execution_context_id": "dd82baa8-1783-4f0d-aec3-089ac3cd33a6",
    "execution_millis": 38,
    "execution_start": 1752789570257,
    "source_hash": "c41f1941"
   },
   "outputs": [
    {
     "data": {
      "image/svg+xml": [
       "<svg xmlns=\"http://www.w3.org/2000/svg\" xmlns:xlink=\"http://www.w3.org/1999/xlink\" width=\"1182pt\" height=\"164pt\" viewBox=\"0.00 0.00 1182.00 164.00\">\n",
       "<g id=\"graph0\" class=\"graph\" transform=\"scale(1 1) rotate(0) translate(4 160)\">\n",
       "<title>_14</title>\n",
       "<polygon fill=\"white\" stroke=\"transparent\" points=\"-4,4 -4,-160 1178,-160 1178,4 -4,4\"/>\n",
       "<g id=\"clust1\" class=\"cluster\">\n",
       "<title>cluster14diagram</title>\n",
       "<polygon fill=\"none\" stroke=\"black\" points=\"8,-8 8,-148 1166,-148 1166,-8 8,-8\"/>\n",
       "<text text-anchor=\"start\" x=\"553.5\" y=\"-129.8\" font-family=\"Times,serif\" font-weight=\"bold\" font-size=\"14.00\">Diagram</text>\n",
       "<text text-anchor=\"start\" x=\"398\" y=\"-115.8\" font-family=\"Times,serif\" font-size=\"14.00\">name=PID-controlled Pendulum (with θ shifted by π)</text>\n",
       "</g>\n",
       "<g id=\"clust2\" class=\"cluster\">\n",
       "<title>clusters14in</title>\n",
       "<polygon fill=\"lightgrey\" stroke=\"lightgrey\" points=\"16,-16 16,-91 233,-91 233,-16 16,-16\"/>\n",
       "<text text-anchor=\"middle\" x=\"124.5\" y=\"-75.8\" font-family=\"Times,serif\" font-size=\"14.00\">input ports</text>\n",
       "</g>\n",
       "<g id=\"clust3\" class=\"cluster\">\n",
       "<title>clusters14out</title>\n",
       "<polygon fill=\"lightgrey\" stroke=\"lightgrey\" points=\"999,-16 999,-91 1158,-91 1158,-16 999,-16\"/>\n",
       "<text text-anchor=\"middle\" x=\"1078.5\" y=\"-75.8\" font-family=\"Times,serif\" font-size=\"14.00\">output ports</text>\n",
       "</g>\n",
       "<g id=\"clust4\" class=\"cluster\">\n",
       "<title>cluster14subsystems</title>\n",
       "<polygon fill=\"none\" stroke=\"white\" points=\"253,-16 253,-96 979,-96 979,-16 253,-16\"/>\n",
       "</g>\n",
       "<!-- s14in -->\n",
       "<g id=\"node1\" class=\"node\">\n",
       "<title>s14in</title>\n",
       "<polygon fill=\"none\" stroke=\"blue\" points=\"35.5,-31 35.5,-52 214.5,-52 214.5,-31 35.5,-31\"/>\n",
       "<text text-anchor=\"start\" x=\"38.5\" y=\"-37.8\" font-family=\"Times,serif\" font-size=\"14.00\">controller_desired_state</text>\n",
       "</g>\n",
       "<!-- s12 -->\n",
       "<g id=\"node4\" class=\"node\">\n",
       "<title>s12</title>\n",
       "<polygon fill=\"none\" stroke=\"black\" points=\"269,-49 269,-83 419,-83 419,-49 269,-49\"/>\n",
       "<text text-anchor=\"start\" x=\"292\" y=\"-69.8\" font-family=\"Times,serif\" font-weight=\"bold\" font-size=\"14.00\">AffineSystem</text>\n",
       "<text text-anchor=\"start\" x=\"272\" y=\"-55.8\" font-family=\"Times,serif\" font-size=\"14.00\">name=shift_desired</text>\n",
       "<polygon fill=\"none\" stroke=\"black\" points=\"269,-28 269,-49 344,-49 344,-28 269,-28\"/>\n",
       "<text text-anchor=\"start\" x=\"297\" y=\"-34.8\" font-family=\"Times,serif\" font-size=\"14.00\">u0</text>\n",
       "<polygon fill=\"none\" stroke=\"black\" points=\"344,-28 344,-49 419,-49 419,-28 344,-28\"/>\n",
       "<text text-anchor=\"start\" x=\"372.5\" y=\"-34.8\" font-family=\"Times,serif\" font-size=\"14.00\">y0</text>\n",
       "</g>\n",
       "<!-- s14in&#45;&gt;s12 -->\n",
       "<g id=\"edge3\" class=\"edge\">\n",
       "<title>s14in:e-&gt;s12:w</title>\n",
       "<path fill=\"none\" stroke=\"blue\" d=\"M215.5,-41C235.04,-41 242.27,-38.9 257.76,-38.22\"/>\n",
       "<polygon fill=\"blue\" stroke=\"blue\" points=\"258.08,-41.71 268,-38 257.93,-34.71 258.08,-41.71\"/>\n",
       "</g>\n",
       "<!-- s14out -->\n",
       "<g id=\"node2\" class=\"node\">\n",
       "<title>s14out</title>\n",
       "<polygon fill=\"none\" stroke=\"green\" points=\"1018.5,-31 1018.5,-52 1139.5,-52 1139.5,-31 1018.5,-31\"/>\n",
       "<text text-anchor=\"start\" x=\"1021.5\" y=\"-37.8\" font-family=\"Times,serif\" font-size=\"14.00\">pendulum_state</text>\n",
       "</g>\n",
       "<!-- s11 -->\n",
       "<g id=\"node3\" class=\"node\">\n",
       "<title>s11</title>\n",
       "<polygon fill=\"none\" stroke=\"black\" points=\"471,-49 471,-83 771,-83 771,-49 471,-49\"/>\n",
       "<text text-anchor=\"start\" x=\"587\" y=\"-69.8\" font-family=\"Times,serif\" font-weight=\"bold\" font-size=\"14.00\">Diagram</text>\n",
       "<text text-anchor=\"start\" x=\"506\" y=\"-55.8\" font-family=\"Times,serif\" font-size=\"14.00\">name=PID-controlled Pendulum</text>\n",
       "<polygon fill=\"none\" stroke=\"black\" points=\"471,-28 471,-49 650,-49 650,-28 471,-28\"/>\n",
       "<text text-anchor=\"start\" x=\"474\" y=\"-34.8\" font-family=\"Times,serif\" font-size=\"14.00\">controller_desired_state</text>\n",
       "<polygon fill=\"none\" stroke=\"black\" points=\"650,-28 650,-49 771,-49 771,-28 650,-28\"/>\n",
       "<text text-anchor=\"start\" x=\"653\" y=\"-34.8\" font-family=\"Times,serif\" font-size=\"14.00\">pendulum_state</text>\n",
       "</g>\n",
       "<!-- s13 -->\n",
       "<g id=\"node5\" class=\"node\">\n",
       "<title>s13</title>\n",
       "<polygon fill=\"none\" stroke=\"black\" points=\"823,-49 823,-83 963,-83 963,-49 823,-49\"/>\n",
       "<text text-anchor=\"start\" x=\"841\" y=\"-69.8\" font-family=\"Times,serif\" font-weight=\"bold\" font-size=\"14.00\">AffineSystem</text>\n",
       "<text text-anchor=\"start\" x=\"826\" y=\"-55.8\" font-family=\"Times,serif\" font-size=\"14.00\">name=shift_actual</text>\n",
       "<polygon fill=\"none\" stroke=\"black\" points=\"823,-28 823,-49 893,-49 893,-28 823,-28\"/>\n",
       "<text text-anchor=\"start\" x=\"848.5\" y=\"-34.8\" font-family=\"Times,serif\" font-size=\"14.00\">u0</text>\n",
       "<polygon fill=\"none\" stroke=\"black\" points=\"893,-28 893,-49 963,-49 963,-28 893,-28\"/>\n",
       "<text text-anchor=\"start\" x=\"919\" y=\"-34.8\" font-family=\"Times,serif\" font-size=\"14.00\">y0</text>\n",
       "</g>\n",
       "<!-- s11&#45;&gt;s13 -->\n",
       "<g id=\"edge1\" class=\"edge\">\n",
       "<title>s11:e-&gt;s13:w</title>\n",
       "<path fill=\"none\" stroke=\"black\" d=\"M772,-38C790.4,-38 797.38,-38 811.85,-38\"/>\n",
       "<polygon fill=\"black\" stroke=\"black\" points=\"812,-41.5 822,-38 812,-34.5 812,-41.5\"/>\n",
       "</g>\n",
       "<!-- s12&#45;&gt;s11 -->\n",
       "<g id=\"edge2\" class=\"edge\">\n",
       "<title>s12:e-&gt;s11:w</title>\n",
       "<path fill=\"none\" stroke=\"black\" d=\"M420,-38C438.4,-38 445.38,-38 459.85,-38\"/>\n",
       "<polygon fill=\"black\" stroke=\"black\" points=\"460,-41.5 470,-38 460,-34.5 460,-41.5\"/>\n",
       "</g>\n",
       "<!-- s13&#45;&gt;s14out -->\n",
       "<g id=\"edge4\" class=\"edge\">\n",
       "<title>s13:e-&gt;s14out:w</title>\n",
       "<path fill=\"none\" stroke=\"green\" d=\"M964,-38C983.91,-38 991.28,-40.1 1007.07,-40.78\"/>\n",
       "<polygon fill=\"green\" stroke=\"green\" points=\"1007.43,-44.29 1017.5,-41 1007.57,-37.29 1007.43,-44.29\"/>\n",
       "</g>\n",
       "</g>\n",
       "</svg>"
      ],
      "text/plain": [
       "<IPython.core.display.SVG object>"
      ]
     },
     "metadata": {},
     "output_type": "display_data"
    }
   ],
   "source": [
    "builder = DiagramBuilder()\n",
    "\n",
    "# 这里我们再次构建PID控制的摆系统，以避免C++所有权问题。\n",
    "pid_controlled_pendulum, pendulum = MakePidControlledPendulum()\n",
    "builder.AddSystem(pid_controlled_pendulum)\n",
    "\n",
    "# 用系统 y = u + [pi;0] 实现对期望theta的平移。\n",
    "shift_desired = builder.AddNamedSystem(\n",
    "    \"shift_desired\", AffineSystem(D=np.eye(2), y0=[np.pi, 0]))\n",
    "builder.ExportInput(shift_desired.get_input_port(),\n",
    "                    \"controller_desired_state\")\n",
    "\n",
    "# 将shift的输出连接到子diagram导出的输入端口。\n",
    "builder.Connect(shift_desired.get_output_port(),\n",
    "                pid_controlled_pendulum.get_input_port())\n",
    "\n",
    "# 用系统 y = u + [-pi;0] 实现对实际theta的平移。\n",
    "shift_actual = builder.AddNamedSystem(\n",
    "    \"shift_actual\", AffineSystem(D=np.eye(2), y0=[-np.pi, 0]))\n",
    "builder.Connect(pid_controlled_pendulum.get_output_port(),\n",
    "                shift_actual.get_input_port())\n",
    "builder.ExportOutput(shift_actual.get_output_port(), \"pendulum_state\")\n",
    "\n",
    "diagram = builder.Build()\n",
    "diagram.set_name(\"PID-controlled Pendulum (with θ shifted by π)\")\n",
    "\n",
    "# 可视化diagram（max depth=1）\n",
    "plot_system_graphviz(diagram, max_depth=1)"
   ]
  },
  {
   "cell_type": "code",
   "execution_count": 5,
   "metadata": {
    "cell_id": "31c9a0ffe92243c788c1ff5039915285",
    "deepnote_cell_type": "code",
    "execution_context_id": "dd82baa8-1783-4f0d-aec3-089ac3cd33a6",
    "execution_millis": 123,
    "execution_start": 1752789570357,
    "source_hash": "87e3d765"
   },
   "outputs": [
    {
     "data": {
      "image/svg+xml": [
       "<svg xmlns=\"http://www.w3.org/2000/svg\" xmlns:xlink=\"http://www.w3.org/1999/xlink\" width=\"1297pt\" height=\"508pt\" viewBox=\"0.00 0.00 1297.00 508.00\">\n",
       "<g id=\"graph0\" class=\"graph\" transform=\"scale(1 1) rotate(0) translate(4 504)\">\n",
       "<title>_14</title>\n",
       "<polygon fill=\"white\" stroke=\"transparent\" points=\"-4,4 -4,-504 1293,-504 1293,4 -4,4\"/>\n",
       "<g id=\"clust1\" class=\"cluster\">\n",
       "<title>cluster14diagram</title>\n",
       "<polygon fill=\"none\" stroke=\"black\" points=\"8,-8 8,-492 1281,-492 1281,-8 8,-8\"/>\n",
       "<text text-anchor=\"start\" x=\"611\" y=\"-473.8\" font-family=\"Times,serif\" font-weight=\"bold\" font-size=\"14.00\">Diagram</text>\n",
       "<text text-anchor=\"start\" x=\"455.5\" y=\"-459.8\" font-family=\"Times,serif\" font-size=\"14.00\">name=PID-controlled Pendulum (with θ shifted by π)</text>\n",
       "</g>\n",
       "<g id=\"clust2\" class=\"cluster\">\n",
       "<title>clusters14in</title>\n",
       "<polygon fill=\"lightgrey\" stroke=\"lightgrey\" points=\"16,-305 16,-380 233,-380 233,-305 16,-305\"/>\n",
       "<text text-anchor=\"middle\" x=\"124.5\" y=\"-364.8\" font-family=\"Times,serif\" font-size=\"14.00\">input ports</text>\n",
       "</g>\n",
       "<g id=\"clust3\" class=\"cluster\">\n",
       "<title>clusters14out</title>\n",
       "<polygon fill=\"lightgrey\" stroke=\"lightgrey\" points=\"1114,-32 1114,-107 1273,-107 1273,-32 1114,-32\"/>\n",
       "<text text-anchor=\"middle\" x=\"1193.5\" y=\"-91.8\" font-family=\"Times,serif\" font-size=\"14.00\">output ports</text>\n",
       "</g>\n",
       "<g id=\"clust4\" class=\"cluster\">\n",
       "<title>cluster14subsystems</title>\n",
       "<polygon fill=\"none\" stroke=\"white\" points=\"253,-16 253,-440 1094,-440 1094,-16 253,-16\"/>\n",
       "</g>\n",
       "<g id=\"clust5\" class=\"cluster\">\n",
       "<title>cluster11diagram</title>\n",
       "<polygon fill=\"none\" stroke=\"black\" points=\"447,-24 447,-432 910,-432 910,-24 447,-24\"/>\n",
       "<text text-anchor=\"start\" x=\"644.5\" y=\"-413.8\" font-family=\"Times,serif\" font-weight=\"bold\" font-size=\"14.00\">Diagram</text>\n",
       "<text text-anchor=\"start\" x=\"563.5\" y=\"-399.8\" font-family=\"Times,serif\" font-size=\"14.00\">name=PID-controlled Pendulum</text>\n",
       "</g>\n",
       "<g id=\"clust6\" class=\"cluster\">\n",
       "<title>clusters11in</title>\n",
       "<polygon fill=\"lightgrey\" stroke=\"lightgrey\" points=\"455,-305 455,-380 672,-380 672,-305 455,-305\"/>\n",
       "<text text-anchor=\"middle\" x=\"563.5\" y=\"-364.8\" font-family=\"Times,serif\" font-size=\"14.00\">input ports</text>\n",
       "</g>\n",
       "<g id=\"clust7\" class=\"cluster\">\n",
       "<title>clusters11out</title>\n",
       "<polygon fill=\"lightgrey\" stroke=\"lightgrey\" points=\"717.5,-32 717.5,-107 876.5,-107 876.5,-32 717.5,-32\"/>\n",
       "<text text-anchor=\"middle\" x=\"797\" y=\"-91.8\" font-family=\"Times,serif\" font-size=\"14.00\">output ports</text>\n",
       "</g>\n",
       "<g id=\"clust8\" class=\"cluster\">\n",
       "<title>cluster11subsystems</title>\n",
       "<polygon fill=\"none\" stroke=\"white\" points=\"482.5,-115 482.5,-297 902,-297 902,-115 482.5,-115\"/>\n",
       "</g>\n",
       "<!-- s14in -->\n",
       "<g id=\"node1\" class=\"node\">\n",
       "<title>s14in</title>\n",
       "<polygon fill=\"none\" stroke=\"blue\" points=\"35.5,-320 35.5,-341 214.5,-341 214.5,-320 35.5,-320\"/>\n",
       "<text text-anchor=\"start\" x=\"38.5\" y=\"-326.8\" font-family=\"Times,serif\" font-size=\"14.00\">controller_desired_state</text>\n",
       "</g>\n",
       "<!-- s12 -->\n",
       "<g id=\"node8\" class=\"node\">\n",
       "<title>s12</title>\n",
       "<polygon fill=\"none\" stroke=\"black\" points=\"269,-341 269,-375 419,-375 419,-341 269,-341\"/>\n",
       "<text text-anchor=\"start\" x=\"292\" y=\"-361.8\" font-family=\"Times,serif\" font-weight=\"bold\" font-size=\"14.00\">AffineSystem</text>\n",
       "<text text-anchor=\"start\" x=\"272\" y=\"-347.8\" font-family=\"Times,serif\" font-size=\"14.00\">name=shift_desired</text>\n",
       "<polygon fill=\"none\" stroke=\"black\" points=\"269,-320 269,-341 344,-341 344,-320 269,-320\"/>\n",
       "<text text-anchor=\"start\" x=\"297\" y=\"-326.8\" font-family=\"Times,serif\" font-size=\"14.00\">u0</text>\n",
       "<polygon fill=\"none\" stroke=\"black\" points=\"344,-320 344,-341 419,-341 419,-320 344,-320\"/>\n",
       "<text text-anchor=\"start\" x=\"372.5\" y=\"-326.8\" font-family=\"Times,serif\" font-size=\"14.00\">y0</text>\n",
       "</g>\n",
       "<!-- s14in&#45;&gt;s12 -->\n",
       "<g id=\"edge8\" class=\"edge\">\n",
       "<title>s14in:e-&gt;s12:w</title>\n",
       "<path fill=\"none\" stroke=\"blue\" d=\"M215.5,-330C235.01,-330 242.28,-330 257.77,-330\"/>\n",
       "<polygon fill=\"blue\" stroke=\"blue\" points=\"258,-333.5 268,-330 258,-326.5 258,-333.5\"/>\n",
       "</g>\n",
       "<!-- s14out -->\n",
       "<g id=\"node2\" class=\"node\">\n",
       "<title>s14out</title>\n",
       "<polygon fill=\"none\" stroke=\"green\" points=\"1133.5,-47 1133.5,-68 1254.5,-68 1254.5,-47 1133.5,-47\"/>\n",
       "<text text-anchor=\"start\" x=\"1136.5\" y=\"-53.8\" font-family=\"Times,serif\" font-size=\"14.00\">pendulum_state</text>\n",
       "</g>\n",
       "<!-- s11in -->\n",
       "<g id=\"node3\" class=\"node\">\n",
       "<title>s11in</title>\n",
       "<polygon fill=\"none\" stroke=\"blue\" points=\"474.5,-320 474.5,-341 653.5,-341 653.5,-320 474.5,-320\"/>\n",
       "<text text-anchor=\"start\" x=\"477.5\" y=\"-326.8\" font-family=\"Times,serif\" font-size=\"14.00\">controller_desired_state</text>\n",
       "</g>\n",
       "<!-- s8 -->\n",
       "<g id=\"node6\" class=\"node\">\n",
       "<title>s8</title>\n",
       "<polygon fill=\"none\" stroke=\"black\" points=\"708,-251 708,-285 886,-285 886,-251 708,-251\"/>\n",
       "<text text-anchor=\"start\" x=\"743.5\" y=\"-271.8\" font-family=\"Times,serif\" font-weight=\"bold\" font-size=\"14.00\">PidController</text>\n",
       "<text text-anchor=\"start\" x=\"736.5\" y=\"-257.8\" font-family=\"Times,serif\" font-size=\"14.00\">name=controller</text>\n",
       "<polygon fill=\"none\" stroke=\"black\" points=\"708,-230 708,-251 829,-251 829,-230 708,-230\"/>\n",
       "<text text-anchor=\"start\" x=\"711\" y=\"-236.8\" font-family=\"Times,serif\" font-size=\"14.00\">estimated_state</text>\n",
       "<polygon fill=\"none\" stroke=\"black\" points=\"829,-209 829,-251 886,-251 886,-209 829,-209\"/>\n",
       "<text text-anchor=\"start\" x=\"832\" y=\"-226.3\" font-family=\"Times,serif\" font-size=\"14.00\">control</text>\n",
       "<polygon fill=\"none\" stroke=\"black\" points=\"708,-209 708,-230 829,-230 829,-209 708,-209\"/>\n",
       "<text text-anchor=\"start\" x=\"720\" y=\"-215.8\" font-family=\"Times,serif\" font-size=\"14.00\">desired_state</text>\n",
       "</g>\n",
       "<!-- s11in&#45;&gt;s8 -->\n",
       "<g id=\"edge4\" class=\"edge\">\n",
       "<title>s11in:e-&gt;s8:w</title>\n",
       "<path fill=\"none\" stroke=\"blue\" d=\"M654.5,-330C705.24,-330 659.84,-234.06 697.06,-220.57\"/>\n",
       "<polygon fill=\"blue\" stroke=\"blue\" points=\"697.67,-224.02 707,-219 696.58,-217.1 697.67,-224.02\"/>\n",
       "</g>\n",
       "<!-- s11out -->\n",
       "<g id=\"node4\" class=\"node\">\n",
       "<title>s11out</title>\n",
       "<polygon fill=\"none\" stroke=\"green\" points=\"737,-47 737,-68 858,-68 858,-47 737,-47\"/>\n",
       "<text text-anchor=\"start\" x=\"740\" y=\"-53.8\" font-family=\"Times,serif\" font-size=\"14.00\">pendulum_state</text>\n",
       "</g>\n",
       "<!-- s13 -->\n",
       "<g id=\"node9\" class=\"node\">\n",
       "<title>s13</title>\n",
       "<polygon fill=\"none\" stroke=\"black\" points=\"938,-68 938,-102 1078,-102 1078,-68 938,-68\"/>\n",
       "<text text-anchor=\"start\" x=\"956\" y=\"-88.8\" font-family=\"Times,serif\" font-weight=\"bold\" font-size=\"14.00\">AffineSystem</text>\n",
       "<text text-anchor=\"start\" x=\"941\" y=\"-74.8\" font-family=\"Times,serif\" font-size=\"14.00\">name=shift_actual</text>\n",
       "<polygon fill=\"none\" stroke=\"black\" points=\"938,-47 938,-68 1008,-68 1008,-47 938,-47\"/>\n",
       "<text text-anchor=\"start\" x=\"963.5\" y=\"-53.8\" font-family=\"Times,serif\" font-size=\"14.00\">u0</text>\n",
       "<polygon fill=\"none\" stroke=\"black\" points=\"1008,-47 1008,-68 1078,-68 1078,-47 1008,-47\"/>\n",
       "<text text-anchor=\"start\" x=\"1034\" y=\"-53.8\" font-family=\"Times,serif\" font-size=\"14.00\">y0</text>\n",
       "</g>\n",
       "<!-- s11out&#45;&gt;s13 -->\n",
       "<g id=\"edge6\" class=\"edge\">\n",
       "<title>s11out:e-&gt;s13:w</title>\n",
       "<path fill=\"none\" stroke=\"black\" d=\"M859,-57C890.01,-57 900.22,-57 926.84,-57\"/>\n",
       "<polygon fill=\"black\" stroke=\"black\" points=\"927,-60.5 937,-57 927,-53.5 927,-60.5\"/>\n",
       "</g>\n",
       "<!-- s7 -->\n",
       "<g id=\"node5\" class=\"node\">\n",
       "<title>s7</title>\n",
       "<polygon fill=\"none\" stroke=\"black\" points=\"498.5,-194 498.5,-228 628.5,-228 628.5,-194 498.5,-194\"/>\n",
       "<text text-anchor=\"start\" x=\"501.5\" y=\"-214.8\" font-family=\"Times,serif\" font-weight=\"bold\" font-size=\"14.00\">PendulumPlant</text>\n",
       "<text text-anchor=\"start\" x=\"502\" y=\"-200.8\" font-family=\"Times,serif\" font-size=\"14.00\">name=pendulum</text>\n",
       "<polygon fill=\"none\" stroke=\"black\" points=\"498.5,-173 498.5,-194 556.5,-194 556.5,-173 498.5,-173\"/>\n",
       "<text text-anchor=\"start\" x=\"515.5\" y=\"-179.8\" font-family=\"Times,serif\" font-size=\"14.00\">tau</text>\n",
       "<polygon fill=\"none\" stroke=\"black\" points=\"556.5,-173 556.5,-194 628.5,-194 628.5,-173 556.5,-173\"/>\n",
       "<text text-anchor=\"start\" x=\"574\" y=\"-179.8\" font-family=\"Times,serif\" font-size=\"14.00\">state</text>\n",
       "</g>\n",
       "<!-- s7&#45;&gt;s11out -->\n",
       "<g id=\"edge5\" class=\"edge\">\n",
       "<title>s7:e-&gt;s11out:w</title>\n",
       "<path fill=\"none\" stroke=\"green\" d=\"M629.5,-183C699.1,-183 666.46,-69.47 725.68,-57.94\"/>\n",
       "<polygon fill=\"green\" stroke=\"green\" points=\"726.36,-61.39 736,-57 725.72,-54.42 726.36,-61.39\"/>\n",
       "</g>\n",
       "<!-- s7&#45;&gt;s8 -->\n",
       "<g id=\"edge3\" class=\"edge\">\n",
       "<title>s7:e-&gt;s8:w</title>\n",
       "<path fill=\"none\" stroke=\"black\" d=\"M629.5,-183C668.58,-183 665.25,-230.62 697.04,-238.81\"/>\n",
       "<polygon fill=\"black\" stroke=\"black\" points=\"696.66,-242.29 707,-240 697.49,-235.34 696.66,-242.29\"/>\n",
       "</g>\n",
       "<!-- s9 -->\n",
       "<g id=\"node7\" class=\"node\">\n",
       "<title>s9</title>\n",
       "<polygon fill=\"none\" stroke=\"black\" points=\"737,-148 737,-182 858,-182 858,-148 737,-148\"/>\n",
       "<text text-anchor=\"start\" x=\"740\" y=\"-168.8\" font-family=\"Times,serif\" font-weight=\"bold\" font-size=\"14.00\">VectorLogSink</text>\n",
       "<text text-anchor=\"start\" x=\"749\" y=\"-154.8\" font-family=\"Times,serif\" font-size=\"14.00\">name=logger</text>\n",
       "<polygon fill=\"none\" stroke=\"black\" points=\"737,-127 737,-148 813,-148 813,-127 737,-127\"/>\n",
       "<text text-anchor=\"start\" x=\"759\" y=\"-133.8\" font-family=\"Times,serif\" font-size=\"14.00\">data</text>\n",
       "<polyline fill=\"none\" stroke=\"grey\" points=\"813,-127 858,-127 858,-148 \"/>\n",
       "</g>\n",
       "<!-- s7&#45;&gt;s9 -->\n",
       "<g id=\"edge2\" class=\"edge\">\n",
       "<title>s7:e-&gt;s9:w</title>\n",
       "<path fill=\"none\" stroke=\"black\" d=\"M629.5,-183C677.43,-183 683.73,-143.24 725.81,-137.65\"/>\n",
       "<polygon fill=\"black\" stroke=\"black\" points=\"726.24,-141.13 736,-137 725.8,-134.14 726.24,-141.13\"/>\n",
       "</g>\n",
       "<!-- s8&#45;&gt;s7 -->\n",
       "<g id=\"edge1\" class=\"edge\">\n",
       "<title>s8:e-&gt;s7:w</title>\n",
       "<path fill=\"none\" stroke=\"black\" d=\"M887,-230C898.12,-230 893.81,-212.92 886,-205 871.47,-190.27 720.21,-199.47 700,-195 670.31,-188.43 666.36,-175.27 636.5,-169.5 576.28,-157.86 543.44,-127.76 498.5,-169.5 497.47,-170.46 496.53,-171.71 495.78,-173.06\"/>\n",
       "<polygon fill=\"black\" stroke=\"black\" points=\"492.35,-173.74 497.5,-183 499.25,-172.55 492.35,-173.74\"/>\n",
       "</g>\n",
       "<!-- s12&#45;&gt;s11in -->\n",
       "<g id=\"edge7\" class=\"edge\">\n",
       "<title>s12:e-&gt;s11in:w</title>\n",
       "<path fill=\"none\" stroke=\"black\" d=\"M420,-330C439.88,-330 447.29,-330 463.08,-330\"/>\n",
       "<polygon fill=\"black\" stroke=\"black\" points=\"463.5,-333.5 473.5,-330 463.5,-326.5 463.5,-333.5\"/>\n",
       "</g>\n",
       "<!-- s13&#45;&gt;s14out -->\n",
       "<g id=\"edge9\" class=\"edge\">\n",
       "<title>s13:e-&gt;s14out:w</title>\n",
       "<path fill=\"none\" stroke=\"green\" d=\"M1079,-57C1098.88,-57 1106.29,-57 1122.08,-57\"/>\n",
       "<polygon fill=\"green\" stroke=\"green\" points=\"1122.5,-60.5 1132.5,-57 1122.5,-53.5 1122.5,-60.5\"/>\n",
       "</g>\n",
       "</g>\n",
       "</svg>"
      ],
      "text/plain": [
       "<IPython.core.display.SVG object>"
      ]
     },
     "metadata": {},
     "output_type": "display_data"
    }
   ],
   "source": [
    "# 可视化diagram（max depth=2）\n",
    "plot_system_graphviz(diagram, max_depth=2)"
   ]
  },
  {
   "cell_type": "markdown",
   "metadata": {
    "cell_id": "143fb2e424fb4637a6f111db3bc841ae",
    "deepnote_cell_type": "markdown"
   },
   "source": [
    "## 子系统与Context\n",
    "\n",
    "现在我们有了一个`Diagram`，可以直接操作它的`Context`。但如果依赖于diagram的`Context`中状态变量的顺序（比如你添加了更多系统，顺序就会变），会很脆弱。而且，单独的子系统可能还会提供一些便于操作其`Context`的方法。\n",
    "\n",
    "通过`DiagramBuilder::AddSystem()`/`AddNamedSystem()`返回的指针依然是子系统的有效指针，可以直接使用。此外，`Diagram`还提供了检索其包含的子系统指针的方法。"
   ]
  },
  {
   "cell_type": "code",
   "execution_count": 6,
   "metadata": {
    "cell_id": "e3d4d2192a644001bed09195f63b5df5",
    "deepnote_cell_type": "code",
    "execution_context_id": "dd82baa8-1783-4f0d-aec3-089ac3cd33a6",
    "execution_millis": 1,
    "execution_start": 1752789570528,
    "source_hash": "ef80bb88"
   },
   "outputs": [],
   "source": [
    "# 验证通过名字获取的子系统和原始指针一致\n",
    "assert(pid_controlled_pendulum.GetSubsystemByName(\"pendulum\") == pendulum)"
   ]
  },
  {
   "cell_type": "markdown",
   "metadata": {
    "cell_id": "d19f2d4043a7466a8f64e15fd2faed93",
    "deepnote_cell_type": "markdown"
   },
   "source": [
    "更有趣的是子系统的`Context`。你应该理解diagram的`Context`其实就是子系统`Context`的有序集合。你可以直接访问这些子系统的`Context`，最常用的是[`GetMyContextFromRoot()`](https://drake.mit.edu/doxygen_cxx/classdrake_1_1systems_1_1_system.html#ae7fa91d2b2102457ced3361207724e52)。注意，由于diagram本身也可以作为其他diagram的子系统，这个方法会递归地获取正确的子`Context`。\n",
    "\n",
    "在本例中，`Context`的嵌套结构如下：\n",
    "\n",
    "```\n",
    "\n",
    "  PID-controlled Pendulum (with θ shifted by π) Context (of a Diagram)\n",
    "\n",
    "    ↳ PID-controlled Pendulum Context (of a Diagram)\n",
    "\n",
    "        ↳ pendulum Context\n",
    "\n",
    "        ↳ controller Context\n",
    "\n",
    "```"
   ]
  },
  {
   "cell_type": "code",
   "execution_count": 7,
   "metadata": {
    "cell_id": "e21af5dcf34e467bb0e5a187035f7fdc",
    "deepnote_cell_type": "code",
    "execution_context_id": "dd82baa8-1783-4f0d-aec3-089ac3cd33a6",
    "execution_millis": 0,
    "execution_start": 1752789570588,
    "source_hash": "5b39ad37"
   },
   "outputs": [
    {
     "name": "stdout",
     "output_type": "stream",
     "text": [
      "::PID-controlled Pendulum (with θ shifted by π) Context (of a Diagram)\n",
      "-------------------------------------------------------------------------\n",
      "3 total continuous states\n",
      "4 total numeric parameters in 1 groups\n",
      "\n",
      "::PID-controlled Pendulum (with θ shifted by π)::PID-controlled Pendulum Context (of a Diagram)\n",
      "--------------------------------------------------------------------------------------------------\n",
      "3 total continuous states\n",
      "4 total numeric parameters in 1 groups\n",
      "\n",
      "::PID-controlled Pendulum (with θ shifted by π)::PID-controlled Pendulum::pendulum Context\n",
      "---------------------------------------------------------------------------------------------\n",
      "Time: 0\n",
      "States:\n",
      "  2 continuous states\n",
      "    0 0\n",
      "\n",
      "Parameters:\n",
      "  1 numeric parameter groups with\n",
      "     4 parameters\n",
      "          1  0.5  0.1 9.81\n",
      "\n",
      "::PID-controlled Pendulum (with θ shifted by π)::PID-controlled Pendulum::controller Context\n",
      "-----------------------------------------------------------------------------------------------\n",
      "Time: 0\n",
      "States:\n",
      "  1 continuous states\n",
      "    0\n",
      "\n",
      "\n"
     ]
    }
   ],
   "source": [
    "diagram_context = diagram.CreateDefaultContext()\n",
    "print(diagram_context)"
   ]
  },
  {
   "cell_type": "markdown",
   "metadata": {
    "cell_id": "5ebe12d461e140faa88dd8d48fc9f0ec",
    "deepnote_cell_type": "markdown"
   },
   "source": [
    "重要的是，通过这种方式从diagram的`Context`获取的子系统`Context`其实就是diagram的`Context`中的一部分。修改子系统`Context`的值会直接改变根`Context`中的值；实际上，这也是推荐的修改方式。"
   ]
  },
  {
   "cell_type": "code",
   "execution_count": 8,
   "metadata": {
    "cell_id": "3be55d291b9a4c398156ee3294ce09e6",
    "deepnote_cell_type": "code",
    "execution_context_id": "dd82baa8-1783-4f0d-aec3-089ac3cd33a6",
    "execution_millis": 1,
    "execution_start": 1752789570638,
    "source_hash": "1e268c99"
   },
   "outputs": [
    {
     "name": "stdout",
     "output_type": "stream",
     "text": [
      "θ = 1.2, θ̇ = 0.5\n"
     ]
    }
   ],
   "source": [
    "pendulum_context = pendulum.GetMyContextFromRoot(diagram_context)\n",
    "pendulum_context.SetContinuousState([1.2, 0.5])\n",
    "# PendulumPlant类为操作其Context提供了一些辅助方法。\n",
    "pendulum_state = pendulum.get_state(pendulum_context)\n",
    "print(f\"θ = {pendulum_state.theta()}, θ̇ = {pendulum_state.thetadot()}\")"
   ]
  },
  {
   "cell_type": "code",
   "execution_count": 9,
   "metadata": {
    "cell_id": "04a7a5fbfd6d4979b3e7555dad25fab9",
    "deepnote_cell_type": "code",
    "execution_context_id": "dd82baa8-1783-4f0d-aec3-089ac3cd33a6",
    "execution_millis": 0,
    "execution_start": 1752789570697,
    "source_hash": "7005d578"
   },
   "outputs": [
    {
     "name": "stdout",
     "output_type": "stream",
     "text": [
      "::PID-controlled Pendulum (with θ shifted by π) Context (of a Diagram)\n",
      "-------------------------------------------------------------------------\n",
      "3 total continuous states\n",
      "4 total numeric parameters in 1 groups\n",
      "\n",
      "::PID-controlled Pendulum (with θ shifted by π)::PID-controlled Pendulum Context (of a Diagram)\n",
      "--------------------------------------------------------------------------------------------------\n",
      "3 total continuous states\n",
      "4 total numeric parameters in 1 groups\n",
      "\n",
      "::PID-controlled Pendulum (with θ shifted by π)::PID-controlled Pendulum::pendulum Context\n",
      "---------------------------------------------------------------------------------------------\n",
      "Time: 0\n",
      "States:\n",
      "  2 continuous states\n",
      "    1.2 0.5\n",
      "\n",
      "Parameters:\n",
      "  1 numeric parameter groups with\n",
      "     4 parameters\n",
      "          1  0.5  0.1 9.81\n",
      "\n",
      "::PID-controlled Pendulum (with θ shifted by π)::PID-controlled Pendulum::controller Context\n",
      "-----------------------------------------------------------------------------------------------\n",
      "Time: 0\n",
      "States:\n",
      "  1 continuous states\n",
      "    0\n",
      "\n",
      "\n"
     ]
    }
   ],
   "source": [
    "# 可以看到根系统的Context也被更新了。\n",
    "print(diagram_context)"
   ]
  },
  {
   "cell_type": "markdown",
   "metadata": {
    "cell_id": "f2fa1989b4f349e6860128c8d6fba29b",
    "deepnote_cell_type": "markdown"
   },
   "source": [
    "总之，`LeafSystem`的`Context`就是一个包含时间、状态、参数和输入的类，可以在几乎所有系统方法中访问。`Diagram`的`Context`也提供了同样的抽象（因为Diagram也是System），但还额外提供了直接操作子系统`Context`的方法。"
   ]
  },
  {
   "cell_type": "markdown",
   "metadata": {
    "cell_id": "2f9960fe84624f87a0f24eacf6384b09",
    "deepnote_cell_type": "markdown"
   },
   "source": [
    "\n",
    "## 导出输入输出端口\n",
    "\n",
    "当我们[自定义叶系统](./authoring_leaf_systems.ipynb)时，会声明输入输出端口。在组装`Diagram`时，我们将子系统的输入输出端口导出为Diagram的输入输出端口。\n",
    "\n",
    "不要直接访问子系统的端口。\n",
    "\n",
    "一个常见错误是试图直接连接到子系统的输入/输出端口。以我们的嵌套Diagram为例："
   ]
  },
  {
   "cell_type": "code",
   "execution_count": 10,
   "metadata": {
    "cell_id": "f69da48027254b4c8879cbc6376b76f4",
    "deepnote_cell_type": "code",
    "execution_context_id": "dd82baa8-1783-4f0d-aec3-089ac3cd33a6",
    "execution_millis": 0,
    "execution_start": 1752789570757,
    "source_hash": "5fecfa03"
   },
   "outputs": [
    {
     "name": "stdout",
     "output_type": "stream",
     "text": [
      "DiagramBuilder: System 'controller' has not been registered to this DiagramBuilder using AddSystem nor AddNamedSystem.\n",
      "\n",
      "The systems currently registered to this builder are: 'PID-controlled Pendulum', 'shift_desired'.\n",
      "\n",
      "If 'controller' was registered as a subsystem to one of these, you must export the input or output port using ExportInput/ExportOutput and then connect to the exported port.\n"
     ]
    }
   ],
   "source": [
    "builder = DiagramBuilder()\n",
    "\n",
    "pid_controlled_pendulum, pendulum = MakePidControlledPendulum()\n",
    "builder.AddSystem(pid_controlled_pendulum)\n",
    "\n",
    "# 用系统 y = u + [pi;0] 实现对期望theta的平移。\n",
    "shift_desired = builder.AddNamedSystem(\n",
    "    \"shift_desired\", AffineSystem(D=np.eye(2), y0=[np.pi, 0]))\n",
    "\n",
    "# ** 错误示例 ** 这样做会报错，但会给出有用的提示信息。\n",
    "controller = pid_controlled_pendulum.GetSubsystemByName(\"controller\")\n",
    "try:\n",
    "    builder.Connect(shift_desired.get_output_port(),\n",
    "                    controller.get_input_port_desired_state())\n",
    "except RuntimeError as err:\n",
    "    print(err)"
   ]
  },
  {
   "cell_type": "markdown",
   "metadata": {
    "cell_id": "d682784eeb22485bb14464ec7344ee39",
    "deepnote_cell_type": "markdown"
   },
   "source": [
    "如上例所示，正确的做法是将shift的输出连接到`pid_controlled_pendulum`子diagram导出的输入端口。"
   ]
  },
  {
   "cell_type": "markdown",
   "metadata": {
    "cell_id": "ff5e9422dcbb4585ba9502513a669654",
    "deepnote_cell_type": "markdown"
   },
   "source": [
    "## Diagram也是System\n",
    "\n",
    "`Diagram`实现了`System`类接口。为此，它会分发到子系统的实现并收集结果。下面是一个小例子，展示了它如何处理时间导数和publish事件，实际上所有`System`方法都会类似地工作。"
   ]
  },
  {
   "cell_type": "code",
   "execution_count": 11,
   "metadata": {
    "cell_id": "bcf47a65af77441490b09f0ff9b5a104",
    "deepnote_cell_type": "code",
    "execution_context_id": "dd82baa8-1783-4f0d-aec3-089ac3cd33a6",
    "execution_millis": 0,
    "execution_start": 1752789570808,
    "source_hash": "e71e6fbb"
   },
   "outputs": [
    {
     "name": "stdout",
     "output_type": "stream",
     "text": [
      "diagram.EvalTimeDerivatives()\n",
      "system1: DoCalcTimeDerivatives()\n",
      "system2: DoCalcTimeDerivatives()\n",
      "diagram.ForcedPublish()\n",
      "system1: Publish()\n",
      "system2: Publish()\n"
     ]
    }
   ],
   "source": [
    "class MyLeafSystem(LeafSystem):\n",
    "    def __init__(self):\n",
    "        super().__init__()\n",
    "\n",
    "        self.DeclareContinuousState(1)\n",
    "        self.DeclareForcedPublishEvent(self.Publish)\n",
    "        self.DeclarePeriodicPublishEvent(period_sec=1,\n",
    "                                         offset_sec=0,\n",
    "                                         publish=self.Publish)\n",
    "\n",
    "    def DoCalcTimeDerivatives(self, context, derivatives):\n",
    "        x = context.get_continuous_state_vector().GetAtIndex(0)\n",
    "        print(f\"{self.get_name()}: DoCalcTimeDerivatives()\")\n",
    "        derivatives.get_mutable_vector().SetAtIndex(0, -x)\n",
    "\n",
    "    def Publish(self, context):\n",
    "        print(f\"{self.get_name()}: Publish()\")\n",
    "\n",
    "builder = DiagramBuilder()\n",
    "builder.AddNamedSystem(\"system1\", MyLeafSystem())\n",
    "builder.AddNamedSystem(\"system2\", MyLeafSystem())\n",
    "diagram = builder.Build()\n",
    "\n",
    "context = diagram.CreateDefaultContext()\n",
    "\n",
    "# 计算diagram的时间导数时，会计算所有子系统的时间导数。\n",
    "print(\"diagram.EvalTimeDerivatives()\")\n",
    "diagram.EvalTimeDerivatives(context)\n",
    "\n",
    "# Diagram的ForcedPublish会调用所有子系统的ForcedPublish。\n",
    "print(\"diagram.ForcedPublish()\")\n",
    "diagram.ForcedPublish(context)"
   ]
  },
  {
   "cell_type": "markdown",
   "metadata": {
    "cell_id": "07eb46b88074414ba2d9622d57572228",
    "deepnote_cell_type": "markdown"
   },
   "source": [
    "## Diagram与标量类型（double, AutoDiffXd, symbolic::Expression）\n",
    "\n",
    "Diagram支持多种标量类型，并且如果所有子系统都支持标量类型，可以进行[标量类型转换](https://drake.mit.edu/doxygen_cxx/group__system__scalar__conversion.html)。最常见的做法是先用默认标量类型构建Diagram，然后用`ToAutoDiffXd()`和/或`ToSymbolic()`进行转换。"
   ]
  },
  {
   "cell_type": "code",
   "execution_count": 12,
   "metadata": {
    "cell_id": "bd4dd63834f54ccaa1211629ba99b684",
    "deepnote_cell_type": "code",
    "execution_context_id": "dd82baa8-1783-4f0d-aec3-089ac3cd33a6",
    "execution_millis": 1,
    "execution_start": 1752789570857,
    "source_hash": "f4e70105"
   },
   "outputs": [],
   "source": [
    "builder = DiagramBuilder()\n",
    "# AffineSystem是一个支持所有标量类型和标量转换的基础系统。\n",
    "builder.AddSystem(AffineSystem(y0=[2, 3]))\n",
    "builder.AddSystem(AffineSystem(D=np.eye(2)))\n",
    "diagram = builder.Build()\n",
    "\n",
    "diagram_autodiff = diagram.ToAutoDiffXd()\n",
    "diagram_symbolic = diagram.ToSymbolic()"
   ]
  },
  {
   "cell_type": "code",
   "execution_count": 13,
   "metadata": {
    "cell_id": "449d8f5b4d9644e6a16e7cd5c4a3c056",
    "deepnote_cell_type": "code",
    "execution_context_id": "dd82baa8-1783-4f0d-aec3-089ac3cd33a6",
    "execution_millis": 1,
    "execution_start": 1752789570917,
    "source_hash": "7196995b"
   },
   "outputs": [
    {
     "name": "stdout",
     "output_type": "stream",
     "text": [
      "调用 ToAutoDiffXd()\n",
      "System ::_ of type drake::systems::Diagram<double> does not support scalar conversion to type drake::AutoDiffXd (because System ::_::__main__.MyLeafSystem@00005615ce990470 of type __main__.MyLeafSystem does not support scalar conversion to type drake::AutoDiffXd)\n",
      "\n",
      "调用 ToSymbolic()\n",
      "System ::_ of type drake::systems::Diagram<double> does not support scalar conversion to type drake::symbolic::Expression (because System ::_::__main__.MyLeafSystem@00005615ce990470 of type __main__.MyLeafSystem does not support scalar conversion to type drake::symbolic::Expression)\n"
     ]
    }
   ],
   "source": [
    "builder = DiagramBuilder()\n",
    "# 上面定义的MyLeafSystem没有实现标量类型支持，因此生成的Diagram也不支持。\n",
    "builder.AddSystem(MyLeafSystem())\n",
    "diagram = builder.Build()\n",
    "\n",
    "print(\"调用 ToAutoDiffXd()\")\n",
    "try:\n",
    "    diagram_autodiff = diagram.ToAutoDiffXd()\n",
    "except RuntimeError as err:\n",
    "    print(err)\n",
    "\n",
    "print(\"\\n调用 ToSymbolic()\")\n",
    "try:\n",
    "    diagram_symbolic = diagram.ToSymbolic()\n",
    "except RuntimeError as err:\n",
    "    print(err)"
   ]
  },
  {
   "cell_type": "markdown",
   "metadata": {
    "cell_id": "81a4980751254e718c1466db47c34ab6",
    "deepnote_cell_type": "markdown"
   },
   "source": [
    "关于如何为自定义叶系统添加标量类型支持，请参见[自定义叶系统](./authoring_leaf_systems.ipynb)教程。\n",
    "\n",
    "# （进阶）继承Diagram类\n",
    "\n",
    "大多数情况下，使用`DiagramBuilder()`构建diagram就足够了。但有时如果你想为diagram本身提供更多方法或成员变量，可以自定义一个继承自`Diagram`的类。"
   ]
  },
  {
   "cell_type": "code",
   "execution_count": 14,
   "metadata": {
    "cell_id": "8eed0410953f437ca4478e8070d6b606",
    "deepnote_cell_type": "code",
    "execution_context_id": "dd82baa8-1783-4f0d-aec3-089ac3cd33a6",
    "execution_millis": 1,
    "execution_start": 1752789570967,
    "source_hash": "72bd0b90"
   },
   "outputs": [
    {
     "name": "stdout",
     "output_type": "stream",
     "text": [
      "::_ Context (of a Diagram)\n",
      "---------------------------\n",
      "2 total continuous states\n",
      "\n",
      "::_::system1 Context\n",
      "---------------------\n",
      "Time: 0\n",
      "States:\n",
      "  1 continuous states\n",
      "    0\n",
      "\n",
      "\n",
      "::_::system2 Context\n",
      "---------------------\n",
      "Time: 0\n",
      "States:\n",
      "  1 continuous states\n",
      "    0\n",
      "\n",
      "\n"
     ]
    }
   ],
   "source": [
    "class CustomDiagram(Diagram):\n",
    "\n",
    "    def __init__(self):\n",
    "        Diagram.__init__(self)\n",
    "        builder = DiagramBuilder()\n",
    "        builder = DiagramBuilder()\n",
    "        self.system1 = builder.AddNamedSystem(\"system1\", MyLeafSystem())\n",
    "        self.system2 = builder.AddNamedSystem(\"system2\", MyLeafSystem())\n",
    "        # 这里不调用builder.Build()，而是调用\n",
    "        builder.BuildInto(self)\n",
    "\n",
    "    def get_system1(self):\n",
    "        return self.system1\n",
    "    \n",
    "    def get_system2(self):\n",
    "        return self.system2\n",
    "    \n",
    "diagram = CustomDiagram()\n",
    "context = diagram.CreateDefaultContext()\n",
    "print(context)"
   ]
  },
  {
   "cell_type": "markdown",
   "metadata": {
    "cell_id": "339da9e215ce4850b3bef74ea38163c6",
    "deepnote_cell_type": "markdown"
   },
   "source": [
    "Drake中的一个例子是`RobotDiagram`，它就是一个自动包含`MultibodyPlant`和`SceneGraph`的`Diagram`，并提供了便捷的方法来获取它们。"
   ]
  }
 ],
 "metadata": {
  "deepnote_notebook_id": "96c20b2e5af4410ea22e97b25d1d30ca",
  "kernelspec": {
   "display_name": "Python 3",
   "language": "python",
   "name": "python3"
  },
  "language_info": {
   "codemirror_mode": {
    "name": "ipython",
    "version": 3
   },
   "file_extension": ".py",
   "mimetype": "text/x-python",
   "name": "python",
   "nbconvert_exporter": "python",
   "pygments_lexer": "ipython3",
   "version": "3.10.12"
  }
 },
 "nbformat": "4",
 "nbformat_minor": "0"
}
