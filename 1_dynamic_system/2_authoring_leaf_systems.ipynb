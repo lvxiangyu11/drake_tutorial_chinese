{
 "cells": [
  {
   "cell_type": "markdown",
   "metadata": {
    "cell_id": "49c921a6350947c5bade458b6b03515f",
    "deepnote_cell_type": "markdown"
   },
   "source": [
    "# 编写 Leaf 系统\n",
    "关于如何运行这些教程笔记本的说明，请参见 [索引](./index.ipynb)。\n"
   ]
  },
  {
   "cell_type": "markdown",
   "metadata": {},
   "source": [
    "# 问题说明\n",
    "\n",
    "本笔记本旨在系统性地介绍如何在 Drake 中编写自定义的 LeafSystem，主要解决以下问题：\n",
    "\n",
    "- 如何声明和使用输入输出端口（向量值与抽象值）\n",
    "\n",
    "- 如何声明和管理系统状态（离散、连续、抽象）\n",
    "\n",
    "- 如何声明和访问参数\n",
    "\n",
    "- 如何实现发布事件\n",
    "\n",
    "- 如何为向量值命名，便于访问\n",
    "\n",
    "- 如何支持标量类型转换（double、AutoDiff、Symbolic）\n",
    "\n",
    "通过具体示例，帮助用户掌握自定义动力系统的完整流程。"
   ]
  },
  {
   "cell_type": "code",
   "execution_count": 1,
   "metadata": {
    "cell_id": "6fe64ddc49984e3bac86b668629c6583",
    "deepnote_cell_type": "code",
    "execution_context_id": "87c4f557-83cb-492e-baf8-ee5cd693d611",
    "execution_millis": 99,
    "execution_start": 1755522501765,
    "source_hash": "e4f8ad18"
   },
   "outputs": [],
   "source": [
    "import numpy as np\n",
    "from pydrake.common.containers import namedview\n",
    "from pydrake.common.value import Value\n",
    "from pydrake.math import RigidTransform, RotationMatrix\n",
    "from pydrake.systems.analysis import Simulator\n",
    "from pydrake.systems.framework import BasicVector, LeafSystem\n",
    "from pydrake.trajectories import PiecewisePolynomial"
   ]
  },
  {
   "cell_type": "markdown",
   "metadata": {
    "cell_id": "330d4151d9bd425baeb3cc7f72c57dcf",
    "deepnote_cell_type": "markdown"
   },
   "source": [
    "## 1. 概述\n",
    "\n",
    "[建模动力系统](./dynamical_systems.ipynb) 教程对 Drake 的系统框架进行了非常基础的介绍，包括如何编写一个基础的 [LeafSystem](https://drake.mit.edu/doxygen_cxx/classdrake_1_1systems_1_1_leaf_system.html)。在本笔记本中，我们将对如何编写这些系统进行更高级/完整的介绍。"
   ]
  },
  {
   "cell_type": "markdown",
   "metadata": {
    "cell_id": "d46bb0e0481c4ba7aa1ef41b7d81774f",
    "deepnote_cell_type": "markdown"
   },
   "source": [
    "## 2. 输入和输出端口\n",
    "\n",
    "Leaf 系统可以拥有任意数量的输入和输出端口。端口有两种基本类型：**向量值**端口和**抽象值**端口。\n",
    "\n",
    "### 2.1 向量值端口\n",
    "我们先从最容易使用的向量值端口开始。下面的系统声明了两个向量输入端口和两个向量输出端口。它对两个 2 元输入向量分别求和与差，并将结果输出到两个输出端口。\n",
    "\n",
    "<table align=center cellpadding=0 cellspacing=0><tr align=center style=\"border:none;\"><td style=\"vertical-align:middle; border:none;\"><table cellspacing=0 cellpadding=0><tr><td align=right style=\"padding:5px 0px 5px 0px; border:none;\">a &rarr;</td></tr><tr style=\"border:none;\"><td align=right style=\"padding:5px 0px 5px 0px; border:none;\">b &rarr;</td></tr></table></td><td align=center style=\"border:2px solid black;padding-left:20px;padding-right:20px;vertical-align:middle;\" bgcolor=#F0F0F0>MyAdder</td><td style=\"vertical-align:middle; border:none;\"><table cellspacing=0 cellpadding=0><tr><td align=left style=\"padding:5px 0px 5px 0px; border:none;\">&rarr; sum</td></tr><tr><td align=left style=\"padding:5px 0px 5px 0px; border:none;\">&rarr; difference</td></tr></table></td></tr></table>"
   ]
  },
  {
   "cell_type": "code",
   "execution_count": null,
   "metadata": {
    "cell_id": "243b8571086f494585c176498027baae",
    "deepnote_cell_type": "code",
    "execution_context_id": "87c4f557-83cb-492e-baf8-ee5cd693d611",
    "execution_millis": 1,
    "execution_start": 1755522501915,
    "source_hash": "7c8d1043"
   },
   "outputs": [
    {
     "name": "stdout",
     "output_type": "stream",
     "text": [
      "sum: [4. 6.]\n",
      "difference: [2. 2.]\n"
     ]
    }
   ],
   "source": [
    "class MyAdder(LeafSystem):\n",
    "    def __init__(self):\n",
    "        super().__init__()  # 不要忘记初始化基类。\n",
    "        self._a_port = self.DeclareVectorInputPort(name=\"a\", size=2)\n",
    "        self._b_port = self.DeclareVectorInputPort(name=\"b\", size=2)\n",
    "        self.DeclareVectorOutputPort(name=\"sum\", size=2, calc=self.CalcSum)\n",
    "        self.DeclareVectorOutputPort(name=\"difference\",\n",
    "                                     size=2,\n",
    "                                     calc=self.CalcDifference)\n",
    "\n",
    "    def CalcSum(self, context, output):\n",
    "        # 通过评估输入端口获得 2x1 向量。\n",
    "        a = self._a_port.Eval(context)\n",
    "        b = self._b_port.Eval(context)\n",
    "\n",
    "        # 将和写入输出向量。\n",
    "        output.SetFromVector(a + b)\n",
    "\n",
    "    def CalcDifference(self, context, output):\n",
    "        # 通过评估输入端口获得 2x1 向量。\n",
    "        a = self._a_port.Eval(context)\n",
    "        b = self._b_port.Eval(context)\n",
    "\n",
    "        # 将差写入输出向量。\n",
    "        output.SetFromVector(a - b)\n",
    "\n",
    "# 构造该系统的实例和一个 context。\n",
    "system = MyAdder()\n",
    "context = system.CreateDefaultContext()\n",
    "\n",
    "# 将输入端口固定为常数值。\n",
    "system.GetInputPort(\"a\").FixValue(context, [3, 4])\n",
    "system.GetInputPort(\"b\").FixValue(context, [1, 2])\n",
    "\n",
    "# 评估输出端口。\n",
    "print(f\"sum: {system.GetOutputPort('sum').Eval(context)}\")\n",
    "print(f\"difference: {system.GetOutputPort('difference').Eval(context)}\")"
   ]
  },
  {
   "cell_type": "markdown",
   "metadata": {
    "cell_id": "5306a6ee34ca4ee5b205a1872795edce",
    "deepnote_cell_type": "markdown"
   },
   "source": [
    "这里有几点需要注意：\n",
    "- 你可以声明任意数量的输入或输出（它们不需要大小相同）。\n",
    "- 可以通过 `Eval()` 方法在任何接受 `Context` 的系统方法中评估输入。\n",
    "- 对于每个输出端口，你需要定义不同的回调函数来实现输出。\n",
    "- 端口的顺序管理可能有些脆弱。我们可以通过索引或名称引用来改进代码。\n",
    "\n",
    "还需要理解：\n",
    "- 你也可以让输入端口变为可选，通过在系统方法实现中检查 [InputPort::HasValue()](https://drake.mit.edu/doxygen_cxx/classdrake_1_1systems_1_1_input_port.html#a5536b94a4642fa4cf47164437dc66ae8)。\n",
    "- 输入和输出端口本身没有任何时序语义；输出端口在请求输出时被评估，并且默认[使用缓存](https://drake.mit.edu/doxygen_cxx/group__cache__design__notes.html)以避免重复计算。\n",
    "- `DeclareVectorOutputPort()` 和 `DeclareAbstractOutputPort()` 可以接受一个可选的 `prerequisites_of_calc` 参数，缓存系统会用它来判断何时需要重新评估输出端口。显式缩小前置条件有时可以显著加快某些 `Diagram` 的构建速度，因为如果未指定，`DiagramBuilder` 会尝试通过符号化系统来检查代数环路。"
   ]
  },
  {
   "cell_type": "markdown",
   "metadata": {
    "cell_id": "14b0d4aae95a4722915ac132ca1bffcf",
    "deepnote_cell_type": "markdown"
   },
   "source": [
    "### 2.2 抽象值端口\n",
    "并非所有输入和输出都适合用向量表示。Drake 的系统框架还支持通过端口传递结构化类型，在 C++ 中通过“类型擦除”实现。从系统框架的角度看，类与“抽象”数据类型协作，只有系统实现本身需要知道如何处理结构化类型。实际上，只需忽略少量样板代码，使用起来非常直接。下面给出一个在输入和输出端口中使用 `RigidTransform` 的 `LeafSystem` 示例：\n",
    "\n",
    "<table align=center cellpadding=0 cellspacing=0><tr align=center><td style=\"vertical-align:middle; border:none;\"><table cellspacing=0 cellpadding=0><tr><td align=right style=\"padding:5px 0px 5px 0px; border:none;\">in &rarr;</td></tr></table></td><td align=center style=\"border:2px solid black;padding-left:20px;padding-right:20px;vertical-align:middle\" bgcolor=#F0F0F0>RotateAboutZ</td><td style=\"vertical-align:middle; border:none;\"><table cellspacing=0 cellpadding=0><tr><td align=left style=\"padding:5px 0px 5px 0px; border:none;\">&rarr; out</td></tr></table></td></tr></table>"
   ]
  },
  {
   "cell_type": "code",
   "execution_count": null,
   "metadata": {
    "cell_id": "fe24d70468b944b9b0abc09d2bc6251b",
    "deepnote_cell_type": "code",
    "execution_context_id": "87c4f557-83cb-492e-baf8-ee5cd693d611",
    "execution_millis": 0,
    "execution_start": 1755522501975,
    "source_hash": "8333dfd"
   },
   "outputs": [
    {
     "name": "stdout",
     "output_type": "stream",
     "text": [
      "RigidTransform(\n",
      "  R=RotationMatrix([\n",
      "    [1.0, 0.0, 0.0],\n",
      "    [0.0, 1.0, 0.0],\n",
      "    [0.0, 0.0, 1.0],\n",
      "  ]),\n",
      "  p=[0.0, 0.0, 0.0],\n",
      ")\n",
      "output: RigidTransform(\n",
      "  R=RotationMatrix([\n",
      "    [6.123233995736766e-17, -1.0, 0.0],\n",
      "    [1.0, 6.123233995736766e-17, 0.0],\n",
      "    [0.0, 0.0, 1.0],\n",
      "  ]),\n",
      "  p=[0.0, 0.0, 0.0],\n",
      ")\n"
     ]
    }
   ],
   "source": [
    "from pydrake.math import RigidTransform, RotationMatrix\n",
    "\n",
    "class RotateAboutZ(LeafSystem):\n",
    "    def __init__(self):\n",
    "        super().__init__()  # 不要忘记初始化基类。\n",
    "        self.DeclareAbstractInputPort(name=\"in\",\n",
    "                                      model_value=Value(RigidTransform()))\n",
    "        self.DeclareAbstractOutputPort(\n",
    "            name=\"out\",\n",
    "            alloc=lambda: Value(RigidTransform()),\n",
    "            calc=self.CalcOutput)\n",
    "\n",
    "    def CalcOutput(self, context, output):\n",
    "        # 评估输入端口以获得 RigidTransform。\n",
    "        X_1 = system.get_input_port().Eval(context)\n",
    "        # print(X_1)\n",
    "\n",
    "        X_2 = RigidTransform(RotationMatrix.MakeZRotation(np.pi / 2)) @ X_1\n",
    "\n",
    "        # 设置输出 RigidTransform。\n",
    "        output.set_value(X_2)\n",
    "\n",
    "# 构造该系统的实例和一个 context。\n",
    "system = RotateAboutZ()\n",
    "context = system.CreateDefaultContext()\n",
    "\n",
    "# 将输入端口固定为常数值。\n",
    "system.get_input_port().FixValue(context, RigidTransform())\n",
    "\n",
    "# 评估输出端口。\n",
    "print(f\"output: {system.get_output_port(0).Eval(context)}\")"
   ]
  },
  {
   "cell_type": "markdown",
   "metadata": {
    "cell_id": "e419657ba83f494e9eff840d48058ff6",
    "deepnote_cell_type": "markdown"
   },
   "source": [
    "## 3. 状态变量\n",
    "\n",
    "系统将其状态存储在 `Context` 中，并以与输入和输出端口非常相似的方式处理状态。同样，我们可以拥有向量值状态或抽象值状态。抽象状态只能以离散时间方式更新，而向量值状态可以声明为**离散**或**连续**。  \n",
    "\n",
    "离散状态 $x_d$ 会根据更新事件演化，最常见的是用简单的周期事件定义差分方程。我们在[入门笔记本](./dynamical_systems.ipynb)中已经见过一个例子。"
   ]
  },
  {
   "cell_type": "code",
   "execution_count": null,
   "metadata": {
    "cell_id": "df70687f4eca468d9b028c74dc849187",
    "deepnote_cell_type": "code",
    "execution_context_id": "87c4f557-83cb-492e-baf8-ee5cd693d611",
    "execution_millis": 1,
    "execution_start": 1755522502025,
    "source_hash": "ca5f87b7"
   },
   "outputs": [
    {
     "name": "stdout",
     "output_type": "stream",
     "text": [
      "[0.00019662705047555356]\n"
     ]
    }
   ],
   "source": [
    "class SimpleDiscreteTimeSystem(LeafSystem):\n",
    "    def __init__(self):\n",
    "        super().__init__()\n",
    "\n",
    "        state_index = self.DeclareDiscreteState(1)  # 一个状态变量。\n",
    "        self.DeclareStateOutputPort(\"y\", state_index)  # 一个输出：y=x。\n",
    "        self.DeclarePeriodicDiscreteUpdateEvent(\n",
    "            period_sec=1.0,  # 一秒的时间步长。\n",
    "            offset_sec=0.0,  # 第一次事件在零时刻。\n",
    "            update=self.Update) # 调用下面定义的 Update 方法。\n",
    "\n",
    "    # xk+1 = xk^3。\n",
    "    def Update(self, context, discrete_state):\n",
    "        x = context.get_discrete_state_vector().GetAtIndex(0)\n",
    "        x_next = x**3\n",
    "        discrete_state.get_mutable_vector().SetAtIndex(0, x_next)\n",
    "\n",
    "# 实例化系统。\n",
    "system = SimpleDiscreteTimeSystem()\n",
    "simulator = Simulator(system)\n",
    "context = simulator.get_mutable_context()\n",
    "\n",
    "# 设置初始条件：x[0] = [0.9]。\n",
    "context.get_mutable_discrete_state_vector().SetFromVector([0.9])\n",
    "\n",
    "# 运行仿真。\n",
    "simulator.AdvanceTo(4.0)\n",
    "print(context.get_discrete_state_vector())\n",
    "\n",
    "### 3.1 离散状态"
   ]
  },
  {
   "cell_type": "markdown",
   "metadata": {
    "cell_id": "70c2efb12c9949d799e9a4ed6b4fd653",
    "deepnote_cell_type": "markdown"
   },
   "source": [
    "关于这些事件的实现和顺序的详细信息可见[这里](https://drake.mit.edu/doxygen_cxx/group__discrete__systems.html)。也可以为更新离散变量定义更复杂的[事件](https://drake.mit.edu/doxygen_cxx/group__events__description.html)。\n",
    "\n",
    "注意，系统的状态在 `Diagram` 中不会被其他系统直接访问。若要共享状态，必须通过输出端口。我们提供了 `DeclareStateOutputPort()` 方法来简化这一常见需求。\n",
    "\n",
    "### 3.2 连续状态\n",
    "\n",
    "连续向量值状态变量的演化由微分方程控制。虽然可以方便地声明多个离散状态组（甚至可以由不同事件以不同速率更新），但对于连续状态，我们只定义零个或一个连续状态向量，并通过重载 `LeafSystem::DoCalcTimeDerivatives()` 方法定义其动力学。下面是[入门笔记本](./dynamical_systems.ipynb)中的简单连续时间示例："
   ]
  },
  {
   "cell_type": "code",
   "execution_count": 5,
   "metadata": {
    "cell_id": "0f04c3f7ea0b406fa47ab34b6fbfe4df",
    "deepnote_cell_type": "code",
    "execution_context_id": "87c4f557-83cb-492e-baf8-ee5cd693d611",
    "execution_millis": 0,
    "execution_start": 1755522502075,
    "source_hash": "b696ac51"
   },
   "outputs": [
    {
     "name": "stdout",
     "output_type": "stream",
     "text": [
      "[0.03778876136193669]\n"
     ]
    }
   ],
   "source": [
    "# 定义系统。\n",
    "class SimpleContinuousTimeSystem(LeafSystem):\n",
    "    def __init__(self):\n",
    "        super().__init__()\n",
    "\n",
    "        state_index = self.DeclareContinuousState(1)  # 一个状态变量。\n",
    "        self.DeclareStateOutputPort(\"y\", state_index)  # 一个输出：y=x。\n",
    "\n",
    "    # xdot(t) = -x(t) + x^3(t)。\n",
    "    def DoCalcTimeDerivatives(self, context, derivatives):\n",
    "        x = context.get_continuous_state_vector().GetAtIndex(0)\n",
    "        xdot = -x + x**3\n",
    "        derivatives.get_mutable_vector().SetAtIndex(0, xdot)\n",
    "\n",
    "# 实例化系统。\n",
    "system = SimpleContinuousTimeSystem()\n",
    "simulator = Simulator(system)\n",
    "context = simulator.get_mutable_context()\n",
    "\n",
    "# 设置初始条件：x(0) = [0.9]\n",
    "context.SetContinuousState([0.9])\n",
    "\n",
    "# 运行仿真。\n",
    "simulator.AdvanceTo(4.0)\n",
    "print(context.get_continuous_state_vector())"
   ]
  },
  {
   "cell_type": "markdown",
   "metadata": {
    "cell_id": "cc5c9ffe94b94fd68a6de91d3f80fd99",
    "deepnote_cell_type": "markdown"
   },
   "source": [
    "### 3.3 抽象状态\n",
    "\n",
    "对于抽象值状态abstract-valued state，流程类似。在构造函数中声明抽象状态，并定义更新事件来更新该状态。离散更新事件只能更新离散状态，因此我们使用“非受限”事件来更新抽象状态。下面是一个将简单 `PiecewisePolynomial` 轨迹作为抽象状态存储的例子："
   ]
  },
  {
   "cell_type": "code",
   "execution_count": null,
   "metadata": {
    "cell_id": "cbf3ad49c0184a84a1b1dbec75307340",
    "deepnote_cell_type": "code",
    "execution_context_id": "87c4f557-83cb-492e-baf8-ee5cd693d611",
    "execution_millis": 1,
    "execution_start": 1755522502125,
    "source_hash": "81769fd5"
   },
   "outputs": [
    {
     "name": "stdout",
     "output_type": "stream",
     "text": [
      "breaks: [3.0, 4.0]\n",
      "traj(4.0) = [[-2.57079633]\n",
      " [ 2.        ]]\n"
     ]
    }
   ],
   "source": [
    "class AbstractStateSystem(LeafSystem): # 抽象状态系统，存储 PiecewisePolynomial 轨迹\n",
    "    # PiecewisePolynomial 是 Drake 中的一个分段多项式轨迹类，用于表示和操作随时间变化的分段多项式函数。\n",
    "\n",
    "    def __init__(self):\n",
    "        super().__init__()\n",
    "\n",
    "        self._traj_index = self.DeclareAbstractState(\n",
    "            Value(PiecewisePolynomial()))\n",
    "        self.DeclarePeriodicUnrestrictedUpdateEvent(period_sec=1.0,\n",
    "                                                    offset_sec=0.0,\n",
    "                                                    update=self.Update)\n",
    "\n",
    "    def Update(self, context, state):\n",
    "        t = context.get_time()\n",
    "        traj = PiecewisePolynomial.FirstOrderHold( # 分段多项式轨迹\n",
    "            [t, t + 1],\n",
    "            np.array([[-np.pi / 2.0 + 1., -np.pi / 2.0 - 1.], [-2., 2.]]))\n",
    "        # 更新状态\n",
    "        state.get_mutable_abstract_state(int(self._traj_index)).set_value(traj)\n",
    "\n",
    "\n",
    "\n",
    "system = AbstractStateSystem()\n",
    "simulator = Simulator(system)\n",
    "context = simulator.get_mutable_context()\n",
    "\n",
    "# 为抽象状态设置初始条件。\n",
    "context.SetAbstractState(0, PiecewisePolynomial())\n",
    "\n",
    "# 运行仿真。\n",
    "simulator.AdvanceTo(4.0)\n",
    "\n",
    "# 仿真结束后，获取抽象状态中的轨迹，并打印其分段断点和当前时间点的轨迹值。\n",
    "traj = context.get_abstract_state(0).get_value()\n",
    "print(f\"breaks: {traj.get_segment_times()}\")\n",
    "print(f\"traj({context.get_time()}) = {traj.value(context.get_time())}\")"
   ]
  },
  {
   "cell_type": "markdown",
   "metadata": {
    "cell_id": "fcec68809a6d4574a4325b4823343fe0",
    "deepnote_cell_type": "markdown"
   },
   "source": [
    "## 4. 参数\n",
    "\n",
    "参数类似于状态，但在仿真期间是常量。系统框架中的参数声明和访问方式与状态几乎相同，但参数永远不会被更新。同样，我们有向量值参数（用 `DeclareNumericParameter` 声明）和抽象值参数（用 `DeclareAbstractParameter` 声明）。\n",
    "\n",
    "<table align=center cellpadding=0 cellspacing=0><tr align=center><td style=\"vertical-align:middle; border:none;\"><table cellspacing=0 cellpadding=0></table></td><td align=center style=\"border:2px solid black;padding-left:20px;padding-right:20px;vertical-align:middle\" bgcolor=#F0F0F0>SystemWithParameters</td><td style=\"vertical-align:middle; border:none;\"><table cellspacing=0 cellpadding=0><tr><td align=left style=\"padding:5px 0px 5px 0px; border:none;\">&rarr; numeric</td></tr><tr><td align=left style=\"padding:5px 0px 5px 0px; border:none;\">&rarr; abstract</td></tr></table></td></tr></table>"
   ]
  },
  {
   "cell_type": "code",
   "execution_count": null,
   "metadata": {
    "cell_id": "acc2b41a61af4302b124468fc590fe98",
    "deepnote_cell_type": "code",
    "execution_context_id": "87c4f557-83cb-492e-baf8-ee5cd693d611",
    "execution_millis": 1,
    "execution_start": 1755522502185,
    "source_hash": "beb56a25"
   },
   "outputs": [
    {
     "name": "stdout",
     "output_type": "stream",
     "text": [
      "numeric: [1.2 3.4]\n",
      "abstract: RigidTransform(\n",
      "  R=RotationMatrix([\n",
      "    [1.0, 0.0, 0.0],\n",
      "    [0.0, 0.8660254037844387, -0.49999999999999994],\n",
      "    [0.0, 0.49999999999999994, 0.8660254037844387],\n",
      "  ]),\n",
      "  p=[0.0, 0.0, 0.0],\n",
      ")\n"
     ]
    }
   ],
   "source": [
    "class SystemWithParameters(LeafSystem):\n",
    "    def __init__(self):\n",
    "        super().__init__()  # 不要忘记初始化基类。\n",
    "\n",
    "        self.DeclareNumericParameter(BasicVector([1.2, 3.4]))\n",
    "        self.DeclareAbstractParameter( # 抽象参数，这里以 RigidTransform 为例\n",
    "            Value(RigidTransform(RotationMatrix.MakeXRotation(np.pi / 6)))) # 以绕 X 轴旋转 π/6 弧度初始化\n",
    "\n",
    "        # 声明输出端口以演示如何在系统方法中访问参数。\n",
    "        self.DeclareVectorOutputPort(name=\"numeric\", # 数值输出端口\n",
    "                                     size=2,\n",
    "                                     calc=self.OutputNumeric)\n",
    "        self.DeclareAbstractOutputPort( # 抽象输出端口\n",
    "            name=\"abstract\",\n",
    "            alloc=lambda: Value(RigidTransform()),\n",
    "            calc=self.OutputAbstract)\n",
    "\n",
    "    def OutputNumeric(self, context, output):\n",
    "        output.SetFromVector(context.get_numeric_parameter(0).get_value())\n",
    "\n",
    "    def OutputAbstract(self, context, output):\n",
    "        output.set_value(context.get_abstract_parameter(0).get_value())\n",
    "\n",
    "# 构造该系统的实例和一个 context。\n",
    "system = SystemWithParameters()\n",
    "context = system.CreateDefaultContext()\n",
    "\n",
    "# 评估输出端口。\n",
    "print(f\"numeric: {system.get_output_port(0).Eval(context)}\")\n",
    "print(f\"abstract: {system.get_output_port(1).Eval(context)}\")"
   ]
  },
  {
   "cell_type": "markdown",
   "metadata": {
    "cell_id": "9101a69ff04943fc881322e15cd35839",
    "deepnote_cell_type": "markdown"
   },
   "source": [
    "## 5. 系统可以“发布”\n",
    "\n",
    "除了用于更新状态的方法和用于评估输出端口的方法外，`LeafSystem` 还支持“发布”回调。发布方法不能修改任何状态：它们适用于向系统框架外部广播数据（如通过 ROS 等消息传递协议）、终止仿真、检测错误以及强制积分步之间的边界。声明方式与其他系统回调类似。"
   ]
  },
  {
   "cell_type": "code",
   "execution_count": null,
   "metadata": {
    "cell_id": "4a40b20fda014a569961a5ee50d32bd3",
    "deepnote_cell_type": "code",
    "execution_context_id": "87c4f557-83cb-492e-baf8-ee5cd693d611",
    "execution_millis": 1,
    "execution_start": 1755522502245,
    "source_hash": "fba9b23"
   },
   "outputs": [
    {
     "name": "stdout",
     "output_type": "stream",
     "text": [
      "Publish() called at time=0.0\n",
      "Publish() called at time=1.0\n",
      "Publish() called at time=2.0\n",
      "Publish() called at time=3.0\n",
      "Publish() called at time=4.0\n",
      "Publish() called at time=5.0\n",
      "\n",
      "calling ForcedPublish:\n",
      "Publish() called at time=5.3\n"
     ]
    }
   ],
   "source": [
    "class MyPublishingSystem(LeafSystem):\n",
    "    def __init__(self):\n",
    "        super().__init__()\n",
    "\n",
    "        # 调用 `ForcePublish()` 会触发回调。\n",
    "        self.DeclareForcedPublishEvent(self.Publish)\n",
    "\n",
    "        # 每秒发布一次。\n",
    "        self.DeclarePeriodicPublishEvent(period_sec=1,\n",
    "                                         offset_sec=0,\n",
    "                                         publish=self.Publish)\n",
    "        \n",
    "    def Publish(self, context):\n",
    "        print(f\"Publish() called at time={context.get_time()}\")\n",
    "\n",
    "system = MyPublishingSystem()\n",
    "simulator = Simulator(system)\n",
    "simulator.AdvanceTo(5.3)\n",
    "\n",
    "# 我们也可以在任意时刻“强制”发布。\n",
    "print(\"\\ncalling ForcedPublish:\")\n",
    "system.ForcedPublish(simulator.get_context())\n"
   ]
  },
  {
   "cell_type": "markdown",
   "metadata": {
    "cell_id": "7c79c7fc0c6b4e3085acfd7a0fcd1d02",
    "deepnote_cell_type": "markdown"
   },
   "source": [
    "## 6. 向量值命名\n",
    "\n",
    "抽象值端口、状态和/或参数可用于处理结构化数据。但有时用字符串名称引用向量值数据的各个元素也很方便。在 Python 中，我们推荐使用 [`namedview`](https://drake.mit.edu/pydrake/pydrake.common.containers.html?highlight=namedview#pydrake.common.containers.namedview) 工作流，其灵感来自 Python 的 [`namedtuple`](https://docs.python.org/3.6/library/collections.html?highlight=namedtuple#collections.namedtuple)，如下例所示。Drake 开发者计划[在 C++ 中提供类似功能](https://github.com/RobotLocomotion/drake/issues/12566)。\n",
    "\n",
    "注意，连续状态向量的内存布局与离散状态、参数和输入/输出端口数据略有不同，因此处理时需要用到 `CopyToVector()` 和 `SetFromVector()`。参见 [issue #9171](https://github.com/RobotLocomotion/drake/issues/9171)。\n",
    "\n",
    "`my_view[:]` 的用法是获取 `namedview` 本身的 NumPy 数组视图。更多细节见 [`namedview`](https://drake.mit.edu/pydrake/pydrake.common.containers.html?highlight=namedview#pydrake.common.containers.namedview) 文档中的示例和警告。"
   ]
  },
  {
   "cell_type": "code",
   "execution_count": null,
   "metadata": {
    "cell_id": "3adbc51b0a1343a4868a92e8c35abab1",
    "deepnote_cell_type": "code",
    "execution_context_id": "87c4f557-83cb-492e-baf8-ee5cd693d611",
    "execution_millis": 1,
    "execution_start": 1755522502295,
    "source_hash": "646d68f5"
   },
   "outputs": [
    {
     "name": "stdout",
     "output_type": "stream",
     "text": [
      "MyDiscreteState(a=7.0, b=4.776488676855167)\n",
      "MyContinuousState(x=0.009156362264504603, z=0.016847706566688464, theta=8.504474637647576)\n",
      "MyOutput(x=0.009156362264504603, a=7.0)\n"
     ]
    }
   ],
   "source": [
    "# 定义系统。\n",
    "class NamedViewDemo(LeafSystem):\n",
    "    MyDiscreteState = namedview(\"MyDiscreteState\", [\"a\", \"b\"]) # 离散状态\n",
    "    MyContinuousState = namedview(\"MyContinuousState\", [\"x\", \"z\", \"theta\"]) # 连续状态\n",
    "    MyOutput = namedview(\"MyOutput\", [\"x\",\"a\"]) # 输出\n",
    "\n",
    "    def __init__(self):\n",
    "        super().__init__()\n",
    "\n",
    "        self.DeclareDiscreteState(2) # 2 个离散状态变量。\n",
    "        self.DeclarePeriodicDiscreteUpdateEvent( # 每秒更新一次离散状态\n",
    "            period_sec=1.0,\n",
    "            offset_sec=0.0,\n",
    "            update=self.DiscreteUpdate)\n",
    "        self.DeclareContinuousState(3) # 3 个连续状态变量。\n",
    "        self.DeclareVectorOutputPort(name=\"out\", size=2, calc=self.CalcOutput) # 输出端口\n",
    "\n",
    "    def DiscreteUpdate(self, context, discrete_values): # 离散状态更新\n",
    "        discrete_state = self.MyDiscreteState(context.get_discrete_state_vector().value())\n",
    "        continuous_state = self.MyContinuousState(context.get_continuous_state_vector().CopyToVector())\n",
    "        next_state = self.MyDiscreteState(discrete_values.get_mutable_value())\n",
    "        # 现在可以通过名称引用每个元素来计算下一个状态。\n",
    "        next_state.a = discrete_state.a + 1\n",
    "        next_state.b = discrete_state.b + continuous_state.x\n",
    "\n",
    "    def DoCalcTimeDerivatives(self, context, derivatives):\n",
    "        continuous_state = self.MyContinuousState(\n",
    "            context.get_continuous_state_vector().CopyToVector())\n",
    "        dstate_dt = self.MyContinuousState(continuous_state[:])\n",
    "        dstate_dt.x = -continuous_state.x\n",
    "        dstate_dt.z = -continuous_state.z\n",
    "        dstate_dt.theta = -np.arctan2(continuous_state.z, continuous_state.x)\n",
    "        derivatives.SetFromVector(dstate_dt[:])\n",
    "\n",
    "    def CalcOutput(self, context, output):\n",
    "        discrete_state = self.MyDiscreteState(\n",
    "            context.get_discrete_state_vector().value())\n",
    "        continuous_state = self.MyContinuousState(\n",
    "            context.get_continuous_state_vector().CopyToVector())\n",
    "        out = self.MyOutput(output.get_mutable_value())\n",
    "        out.x = continuous_state.x\n",
    "        out.a = discrete_state.a\n",
    "\n",
    "# 实例化系统。\n",
    "system = NamedViewDemo()\n",
    "simulator = Simulator(system)\n",
    "context = simulator.get_mutable_context()\n",
    "\n",
    "# 设置初始条件。\n",
    "initial_discrete_state = NamedViewDemo.MyDiscreteState([3, 4])\n",
    "context.SetDiscreteState(initial_discrete_state[:])\n",
    "initial_continuous_state = NamedViewDemo.MyContinuousState.Zero()\n",
    "initial_continuous_state.x = 0.5\n",
    "initial_continuous_state.z = 0.92\n",
    "initial_continuous_state.theta = 0.23\n",
    "context.SetContinuousState(initial_continuous_state[:])\n",
    "\n",
    "# 运行仿真。\n",
    "simulator.AdvanceTo(4.0)\n",
    "print(\n",
    "    NamedViewDemo.MyDiscreteState(context.get_discrete_state_vector().value()))\n",
    "print(\n",
    "    NamedViewDemo.MyContinuousState(\n",
    "        context.get_continuous_state_vector().CopyToVector()))\n",
    "print(NamedViewDemo.MyOutput(system.get_output_port().Eval(context)))\n"
   ]
  },
  {
   "cell_type": "markdown",
   "metadata": {
    "cell_id": "0ccf43984c984f859ba8b2052f52846e",
    "deepnote_cell_type": "markdown"
   },
   "source": [
    "## 7. 支持标量类型转换（double、AutoDiff 和 Symbolic）\n",
    "\n",
    "为了在系统框架中支持 AutoDiff 和 Symbolic 类型，LeafSystem 可以编写为支持“标量类型转换”。在 Python 中，只需少量样板代码即可实现。下面是一个简单示例：\n",
    "\n",
    "<table align=center cellpadding=0 cellspacing=0><tr align=center><td style=\"vertical-align:middle; border:none;\"><table cellspacing=0 cellpadding=0><tr><td align=right style=\"padding:5px 0px 5px 0px; border:none;\">state &rarr;</td></tr><tr><td align=right style=\"padding:5px 0px 5px 0px; border:none;\">command &rarr;</td></tr></table></td><td align=center style=\"border:2px solid black;padding-left:20px;padding-right:20px;vertical-align:middle\" bgcolor=#F0F0F0>RunningCost</td><td style=\"vertical-align:middle; border:none;\"><table cellspacing=0 cellpadding=0><tr><td align=left style=\"padding:5px 0px 5px 0px; border:none;\">&rarr; cost</td></tr></table></td></tr></table>"
   ]
  },
  {
   "cell_type": "code",
   "execution_count": null,
   "metadata": {
    "cell_id": "96680c6f1eb040ff9bd1c8e6b4f77ec3",
    "deepnote_cell_type": "code",
    "execution_context_id": "87c4f557-83cb-492e-baf8-ee5cd693d611",
    "execution_millis": 329,
    "execution_start": 1755522502345,
    "source_hash": "7c325776"
   },
   "outputs": [],
   "source": [
    "from pydrake.systems.framework import LeafSystem_\n",
    "from pydrake.systems.scalar_conversion import TemplateSystem\n",
    "from pydrake.autodiffutils import AutoDiffXd\n",
    "from pydrake.symbolic import Expression\n",
    "\n",
    "@TemplateSystem.define(\"RunningCost_\")  #  Drake 的模板系统装饰器，使得 RunningCost_ 可以根据不同的标量类型（T）生成不同类型的系统（如 float、自动微分、符号运算）。\n",
    "def RunningCost_(T):\n",
    "\n",
    "    class Impl(LeafSystem_[T]):\n",
    "\n",
    "        def _construct(self, converter=None, Q=np.eye(2)):\n",
    "            super().__init__(converter)\n",
    "            self._Q = Q\n",
    "            self._state_port = self.DeclareVectorInputPort(\"state\", 2)\n",
    "            self._command_port = self.DeclareVectorInputPort(\"command\", 1)\n",
    "            self.DeclareVectorOutputPort(\"cost\", 1, self.CostOutput)\n",
    " \n",
    "        def _construct_copy(self, other, converter=None): # 用于标量类型转换时复制成员变量。\n",
    "            # 任何成员字段（如配置值）都需要\n",
    "            # 在这里从 `other` 传递到 `self`。\n",
    "            Impl._construct(self, converter=converter, Q=other._Q)\n",
    "\n",
    "        def CostOutput(self, context, output): # 计算运行成本\n",
    "            x = self._state_port.Eval(context)\n",
    "            u = self._command_port.Eval(context)[0]\n",
    "            output[0] = x.dot(self._Q.dot(x)) + u**2\n",
    "\n",
    "    return Impl\n",
    "\n",
    "RunningCost = RunningCost_[None]  # 默认实例化。"
   ]
  },
  {
   "cell_type": "markdown",
   "metadata": {
    "cell_id": "d3c2e3b4c9fd4e9ebe3c10a7ef3155f4",
    "deepnote_cell_type": "markdown"
   },
   "source": [
    "关键步骤如下：\n",
    "- 添加 `@TemplateSystem` 装饰器。\n",
    "- 继承自 `LeafSystem_[T]` 而不是简单的 `LeafSystem`。\n",
    "- 实现 `_construct` 方法，*代替*通常的 `__init__` 方法。\n",
    "- 实现 `_construct_copy` 方法，需要将与 `_construct` 相同的成员字段（如本例中的 `self.Q`）赋值。\n",
    "- 添加默认实例化，这样你可以像原来一样用 `RunningCost`，也可以用 `RunningCost_[float]`。\n",
    "\n",
    "更多细节可见 C++ 的[标量转换文档](https://drake.mit.edu/doxygen_cxx/group__system__scalar__conversion.html)和 [`@TemplateSystem`](https://drake.mit.edu/pydrake/pydrake.systems.scalar_conversion.html#pydrake.systems.scalar_conversion.TemplateSystem) 装饰器文档。"
   ]
  },
  {
   "cell_type": "code",
   "execution_count": null,
   "metadata": {
    "cell_id": "011bc29e79504f55876176cedf358a9d",
    "deepnote_cell_type": "code",
    "execution_context_id": "87c4f557-83cb-492e-baf8-ee5cd693d611",
    "execution_millis": 0,
    "execution_start": 1755522502735,
    "source_hash": "e778d4f6"
   },
   "outputs": [
    {
     "name": "stdout",
     "output_type": "stream",
     "text": [
      "[23.]\n",
      "[<Expression \"23\">]\n"
     ]
    }
   ],
   "source": [
    "# 完成上述操作后，仍可像原来一样使用该系统：\n",
    "# 创建一个二次型权重为 diag([10, 1]) 的 RunningCost 系统。\n",
    "# 创建 context 并设置输入端口（state=[1,2]，command=[3]）。\n",
    "#  计算并打印代价输出（cost = xᵀQx + u²）。\n",
    "system = RunningCost(Q=np.diag([10, 1]))\n",
    "context = system.CreateDefaultContext()\n",
    "system.get_input_port(0).FixValue(context, [1, 2])\n",
    "system.get_input_port(1).FixValue(context, [3])\n",
    "print(system.get_output_port().Eval(context))\n",
    "\n",
    "# 也可以直接声明 autodiff 或符号类型的系统：\n",
    "# 直接实例化支持自动微分（AutoDiffXd）和符号运算（Expression）的 RunningCost 系统，便于做灵敏度分析或符号推导。\n",
    "system_ad = RunningCost_[AutoDiffXd]()\n",
    "system_symbolic = RunningCost_[Expression]()\n",
    "\n",
    "# 或通过标量转换：\n",
    "# 通过已有系统对象直接转换为自动微分或符号类型的系统，方便复用已有配置。\n",
    "system_ad = system.ToAutoDiffXd()\n",
    "system_symbolic = system.ToSymbolic()\n",
    "\n",
    "# 还可以将时间、状态、参数以及（如有需要）输入端口\n",
    "# 从原系统转换到新系统：\n",
    "# 创建符号系统的 context，并把原 context 的时间、状态、参数、输入端口全部同步过去。\n",
    "# 这样可以在不同类型系统间无缝切换，最后计算并打印符号系统下的输出。\n",
    "context_symbolic = system_symbolic.CreateDefaultContext()\n",
    "context_symbolic.SetTimeStateAndParametersFrom(context)\n",
    "system_symbolic.FixInputPortsFrom(system, context, context_symbolic)\n",
    "print(system_symbolic.get_output_port().Eval(context_symbolic))"
   ]
  },
  {
   "cell_type": "markdown",
   "metadata": {
    "cell_id": "a6e61b221c894d62b63bae459b984a75",
    "deepnote_cell_type": "markdown"
   },
   "source": [
    "## 8. 延伸阅读\n",
    "\n",
    "[系统框架中的缓存](https://drake.mit.edu/doxygen_cxx/group__cache__design__notes.html)\n",
    "\n",
    "[声明事件](https://drake.mit.edu/doxygen_cxx/group__events__description.html)\n",
    "\n",
    "[随机系统](https://drake.mit.edu/doxygen_cxx/group__stochastic__systems.html)\n",
    "\n",
    "声明[系统约束](https://drake.mit.edu/doxygen_cxx/classdrake_1_1systems_1_1_system_constraint.html)：[等式约束](https://drake.mit.edu/doxygen_cxx/classdrake_1_1systems_1_1_leaf_system.html#a4948ad0241c67045b3c794874b2986a0)与[不等式约束](https://drake.mit.edu/doxygen_cxx/classdrake_1_1systems_1_1_leaf_system.html#a3bac306621c3f0839324649151c22af2)。\n",
    "\n",
    "[用隐式形式编写连续动力学](https://drake.mit.edu/doxygen_cxx/classdrake_1_1systems_1_1_system.html#a2bb4c1e3572a8009863b5a342fcb5c49)"
   ]
  },
  {
   "cell_type": "markdown",
   "metadata": {
    "cell_id": "744833eff7a449abbdaa7fa075864bab",
    "deepnote_cell_type": "markdown"
   },
   "source": []
  }
 ],
 "metadata": {
  "deepnote_notebook_id": "4a638ca5bf8c4f98a8d5e0f8566f548b",
  "kernelspec": {
   "display_name": "Python 3",
   "language": "python",
   "name": "python3"
  },
  "language_info": {
   "codemirror_mode": {
    "name": "ipython",
    "version": 3
   },
   "file_extension": ".py",
   "mimetype": "text/x-python",
   "name": "python",
   "nbconvert_exporter": "python",
   "pygments_lexer": "ipython3",
   "version": "3.10.12"
  }
 },
 "nbformat": "4",
 "nbformat_minor": "0"
}
